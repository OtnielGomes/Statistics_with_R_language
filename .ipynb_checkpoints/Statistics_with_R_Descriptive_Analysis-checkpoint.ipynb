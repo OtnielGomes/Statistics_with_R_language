{
 "cells": [
  {
   "cell_type": "markdown",
   "id": "8a7e2f35-5fa4-4c42-be99-f3595dbbcfc3",
   "metadata": {},
   "source": [
    "## Descriptive Analysis Project of a Data Set\n",
    "A basic descriptive analysis will be carried out on a set of data taken from the IBGE National Household Sample Survey - 2015.\n",
    "\n",
    "We will construct histograms, calculate and evaluate measures of central tendency, separatrix measures and data dispersion."
   ]
  },
  {
   "cell_type": "markdown",
   "id": "7ebefa2b-d8f2-4995-9df6-b6ac7f1b9848",
   "metadata": {},
   "source": [
    " "
   ]
  },
  {
   "cell_type": "markdown",
   "id": "6ef21a90-67aa-4763-b96e-bb3f0e256518",
   "metadata": {},
   "source": [
    " "
   ]
  },
  {
   "cell_type": "markdown",
   "id": "d20beab3-95e5-429a-b697-4041603edb34",
   "metadata": {},
   "source": [
    "## Project dataset\n",
    "### National Household Sample Survey - 2015 in Brazil\n",
    "The National Household Sample Survey - PNAD investigates annually, on a permanent basis, general characteristics of the population, education, work, income and housing and others, with variable frequency, according to the country's information needs, such as characteristics on migration , fertility, nuptiality, health, food security, among other topics. The survey of these statistics constitutes, over 49 years of research, an important instrument for formulating, validating and evaluating policies aimed at socioeconomic development and improving living conditions in Brazil."
   ]
  },
  {
   "cell_type": "markdown",
   "id": "1fc41753-9c14-4b37-b6fb-6355977474d6",
   "metadata": {},
   "source": [
    " "
   ]
  },
  {
   "cell_type": "markdown",
   "id": "c2112c95-e2cf-4606-a648-dc1844b1de7d",
   "metadata": {},
   "source": [
    " "
   ]
  },
  {
   "cell_type": "markdown",
   "id": "ded2c200-8da5-4886-80e5-e656e540137b",
   "metadata": {},
   "source": [
    "### Data Source\n",
    "https://ww2.ibge.gov.br/home/estatistica/populacao/trabalhoerendimento/pnad2015/microdados.shtm"
   ]
  },
  {
   "cell_type": "markdown",
   "id": "86162503-bab9-4ed6-a869-40b5ee35be1f",
   "metadata": {},
   "source": [
    "### Variables used\n",
    "\n",
    "### Income\n",
    "***\n",
    "\n",
    "Monthly income from main job for people aged 10 or over.\n",
    "\n",
    "### Age\n",
    "***\n",
    "\n",
    "Age of the resident on the reference date in years.\n",
    "\n",
    "### Height (own elaboration)\n",
    "***\n",
    "\n",
    "Resident's height in meters.\n",
    "\n",
    "### UF\n",
    "***\n",
    "\n",
    "|Code|Description|\n",
    "|---|---|\n",
    "|11|Rondônia|\n",
    "|12|Acre|\n",
    "|13|Amazons|\n",
    "|14|Roraima|\n",
    "|15|Para|\n",
    "|16|Amapá|\n",
    "|17|Tocantins|\n",
    "|21|Maranhão|\n",
    "|22|Piauí|\n",
    "|23|Ceará|\n",
    "|24|Rio Grande do Norte|\n",
    "|25|Paraíba|\n",
    "|26|Pernambuco|\n",
    "|27|Alagoas|\n",
    "|28|Sergipe|\n",
    "|29|Bahia|\n",
    "|31|Minas Gerais|\n",
    "|32|Holy Spirit|\n",
    "|33|Rio de Janeiro|\n",
    "|35|São Paulo|\n",
    "|41|Paraná|\n",
    "|42|Santa Catarina|\n",
    "|43|Rio Grande do Sul|\n",
    "|50|Mato Grosso do Sul|\n",
    "|51|Mato Grosso|\n",
    "|52|Goiás|\n",
    "|53|Distrito Federal|\n",
    "\n",
    "### Sex\n",
    "***\n",
    "\n",
    "|Code|Description|\n",
    "|---|---|\n",
    "|0|Masculine|\n",
    "|1|Feminine|\n",
    "\n",
    "### Years of Study\n",
    "***\n",
    "\n",
    "|Code|Description|\n",
    "|---|---|\n",
    "|1|No education and less than 1 year|\n",
    "|2|1 year|\n",
    "|3|2 years|\n",
    "|4|3 years|\n",
    "|5|4 years|\n",
    "|6|5 years|\n",
    "|7|6 years|\n",
    "|8|7 years|\n",
    "|9|8 years|\n",
    "|10|9 years|\n",
    "|11|10 years|\n",
    "|12|11 years|\n",
    "|13|12 years old|\n",
    "|14|13 years old|\n",
    "|15|14 years old|\n",
    "|16|15 years or more|\n",
    "|17|Not determined|\n",
    "||Not applicable|\n",
    "\n",
    "### Color\n",
    "***\n",
    "\n",
    "|Code|Description|\n",
    "|---|---|\n",
    "|0|Indigenous|\n",
    "|2|White|\n",
    "|4|Black|\n",
    "|6|Yellow|\n",
    "|8|Brown|\n",
    "|9|No statement|"
   ]
  },
  {
   "cell_type": "markdown",
   "id": "81b2a876-756a-44e3-a804-3d7d4d65e1b5",
   "metadata": {},
   "source": [
    "  "
   ]
  },
  {
   "cell_type": "markdown",
   "id": "2b7039d8-a598-47a1-a1fd-8ade48bb55f6",
   "metadata": {},
   "source": [
    " "
   ]
  },
  {
   "cell_type": "markdown",
   "id": "9f7a61c2-81b3-4cf0-98e2-e05404a20c86",
   "metadata": {},
   "source": [
    "### Imports:\n",
    "***\n"
   ]
  },
  {
   "cell_type": "code",
   "execution_count": 88,
   "id": "d236fb54-4fb1-4826-aad3-db284d2f43ff",
   "metadata": {},
   "outputs": [],
   "source": [
    "library(dplyr)\n",
    "library(glue)\n",
    "library(ggplot2)"
   ]
  },
  {
   "cell_type": "markdown",
   "id": "b671bfe3-df1e-43f0-b5f9-1461c2e13e7c",
   "metadata": {},
   "source": [
    " "
   ]
  },
  {
   "cell_type": "markdown",
   "id": "47b7ff07-77e7-4a2a-98fb-693b5fbb9df2",
   "metadata": {},
   "source": [
    " "
   ]
  },
  {
   "cell_type": "markdown",
   "id": "ef882b10-67df-4be0-9d81-4b92c9a9a7f2",
   "metadata": {},
   "source": [
    "### Loading Dataset\n",
    "***"
   ]
  },
  {
   "cell_type": "code",
   "execution_count": 2,
   "id": "c8e51a3d-594c-4fc8-8ce7-2f511ab9a606",
   "metadata": {},
   "outputs": [],
   "source": [
    "dataset <- read.csv('dataset_IBGE.csv')"
   ]
  },
  {
   "cell_type": "code",
   "execution_count": 3,
   "id": "28cff328-035b-47d8-af42-e45e34aa540d",
   "metadata": {
    "scrolled": true
   },
   "outputs": [
    {
     "data": {
      "text/html": [
       "<table class=\"dataframe\">\n",
       "<caption>A data.frame: 10 × 7</caption>\n",
       "<thead>\n",
       "\t<tr><th></th><th scope=col>UF</th><th scope=col>Sex</th><th scope=col>Age</th><th scope=col>Color</th><th scope=col>Years.of.Studies</th><th scope=col>Income</th><th scope=col>Height</th></tr>\n",
       "\t<tr><th></th><th scope=col>&lt;int&gt;</th><th scope=col>&lt;int&gt;</th><th scope=col>&lt;int&gt;</th><th scope=col>&lt;int&gt;</th><th scope=col>&lt;int&gt;</th><th scope=col>&lt;int&gt;</th><th scope=col>&lt;dbl&gt;</th></tr>\n",
       "</thead>\n",
       "<tbody>\n",
       "\t<tr><th scope=row>1</th><td>11</td><td>0</td><td>23</td><td>8</td><td>12</td><td> 800</td><td>1.603808</td></tr>\n",
       "\t<tr><th scope=row>2</th><td>11</td><td>1</td><td>23</td><td>2</td><td>12</td><td>1150</td><td>1.739790</td></tr>\n",
       "\t<tr><th scope=row>3</th><td>11</td><td>1</td><td>35</td><td>8</td><td>15</td><td> 880</td><td>1.760444</td></tr>\n",
       "\t<tr><th scope=row>4</th><td>11</td><td>0</td><td>46</td><td>2</td><td> 6</td><td>3500</td><td>1.783158</td></tr>\n",
       "\t<tr><th scope=row>5</th><td>11</td><td>1</td><td>47</td><td>8</td><td> 9</td><td> 150</td><td>1.690631</td></tr>\n",
       "\t<tr><th scope=row>6</th><td>11</td><td>1</td><td>34</td><td>8</td><td>12</td><td> 790</td><td>1.637906</td></tr>\n",
       "\t<tr><th scope=row>7</th><td>11</td><td>0</td><td>57</td><td>8</td><td>12</td><td>3150</td><td>1.570078</td></tr>\n",
       "\t<tr><th scope=row>8</th><td>11</td><td>1</td><td>60</td><td>8</td><td>12</td><td>1700</td><td>1.608495</td></tr>\n",
       "\t<tr><th scope=row>9</th><td>11</td><td>1</td><td>50</td><td>4</td><td>14</td><td>1800</td><td>1.780329</td></tr>\n",
       "\t<tr><th scope=row>10</th><td>11</td><td>0</td><td>26</td><td>8</td><td>12</td><td>1150</td><td>1.793203</td></tr>\n",
       "</tbody>\n",
       "</table>\n"
      ],
      "text/latex": [
       "A data.frame: 10 × 7\n",
       "\\begin{tabular}{r|lllllll}\n",
       "  & UF & Sex & Age & Color & Years.of.Studies & Income & Height\\\\\n",
       "  & <int> & <int> & <int> & <int> & <int> & <int> & <dbl>\\\\\n",
       "\\hline\n",
       "\t1 & 11 & 0 & 23 & 8 & 12 &  800 & 1.603808\\\\\n",
       "\t2 & 11 & 1 & 23 & 2 & 12 & 1150 & 1.739790\\\\\n",
       "\t3 & 11 & 1 & 35 & 8 & 15 &  880 & 1.760444\\\\\n",
       "\t4 & 11 & 0 & 46 & 2 &  6 & 3500 & 1.783158\\\\\n",
       "\t5 & 11 & 1 & 47 & 8 &  9 &  150 & 1.690631\\\\\n",
       "\t6 & 11 & 1 & 34 & 8 & 12 &  790 & 1.637906\\\\\n",
       "\t7 & 11 & 0 & 57 & 8 & 12 & 3150 & 1.570078\\\\\n",
       "\t8 & 11 & 1 & 60 & 8 & 12 & 1700 & 1.608495\\\\\n",
       "\t9 & 11 & 1 & 50 & 4 & 14 & 1800 & 1.780329\\\\\n",
       "\t10 & 11 & 0 & 26 & 8 & 12 & 1150 & 1.793203\\\\\n",
       "\\end{tabular}\n"
      ],
      "text/markdown": [
       "\n",
       "A data.frame: 10 × 7\n",
       "\n",
       "| <!--/--> | UF &lt;int&gt; | Sex &lt;int&gt; | Age &lt;int&gt; | Color &lt;int&gt; | Years.of.Studies &lt;int&gt; | Income &lt;int&gt; | Height &lt;dbl&gt; |\n",
       "|---|---|---|---|---|---|---|---|\n",
       "| 1 | 11 | 0 | 23 | 8 | 12 |  800 | 1.603808 |\n",
       "| 2 | 11 | 1 | 23 | 2 | 12 | 1150 | 1.739790 |\n",
       "| 3 | 11 | 1 | 35 | 8 | 15 |  880 | 1.760444 |\n",
       "| 4 | 11 | 0 | 46 | 2 |  6 | 3500 | 1.783158 |\n",
       "| 5 | 11 | 1 | 47 | 8 |  9 |  150 | 1.690631 |\n",
       "| 6 | 11 | 1 | 34 | 8 | 12 |  790 | 1.637906 |\n",
       "| 7 | 11 | 0 | 57 | 8 | 12 | 3150 | 1.570078 |\n",
       "| 8 | 11 | 1 | 60 | 8 | 12 | 1700 | 1.608495 |\n",
       "| 9 | 11 | 1 | 50 | 4 | 14 | 1800 | 1.780329 |\n",
       "| 10 | 11 | 0 | 26 | 8 | 12 | 1150 | 1.793203 |\n",
       "\n"
      ],
      "text/plain": [
       "   UF Sex Age Color Years.of.Studies Income Height  \n",
       "1  11 0   23  8     12                800   1.603808\n",
       "2  11 1   23  2     12               1150   1.739790\n",
       "3  11 1   35  8     15                880   1.760444\n",
       "4  11 0   46  2      6               3500   1.783158\n",
       "5  11 1   47  8      9                150   1.690631\n",
       "6  11 1   34  8     12                790   1.637906\n",
       "7  11 0   57  8     12               3150   1.570078\n",
       "8  11 1   60  8     12               1700   1.608495\n",
       "9  11 1   50  4     14               1800   1.780329\n",
       "10 11 0   26  8     12               1150   1.793203"
      ]
     },
     "metadata": {},
     "output_type": "display_data"
    }
   ],
   "source": [
    "head(dataset, 10)"
   ]
  },
  {
   "cell_type": "markdown",
   "id": "cbcbdd97-efdb-4bab-9600-7676a62af557",
   "metadata": {},
   "source": [
    "  "
   ]
  },
  {
   "cell_type": "markdown",
   "id": "784c067a-d922-4bb1-964d-d8b746829984",
   "metadata": {},
   "source": [
    "  "
   ]
  },
  {
   "cell_type": "markdown",
   "id": "c8a4e64d-85d2-44d2-8ca2-611866edb09e",
   "metadata": {},
   "source": [
    "### Analyzing the Dataset\n",
    "***"
   ]
  },
  {
   "cell_type": "markdown",
   "id": "28c471d7-2312-4e1f-89bc-69612b75d94f",
   "metadata": {},
   "source": [
    "##### Numbers of lines"
   ]
  },
  {
   "cell_type": "code",
   "execution_count": 4,
   "id": "d2c89b1e-d310-429f-9556-1ab6d4a4210c",
   "metadata": {
    "scrolled": true
   },
   "outputs": [
    {
     "data": {
      "text/html": [
       "76840"
      ],
      "text/latex": [
       "76840"
      ],
      "text/markdown": [
       "76840"
      ],
      "text/plain": [
       "[1] 76840"
      ]
     },
     "metadata": {},
     "output_type": "display_data"
    }
   ],
   "source": [
    "nrow(dataset)"
   ]
  },
  {
   "cell_type": "markdown",
   "id": "74e2f916-6214-4427-802d-3256c57a0143",
   "metadata": {},
   "source": [
    "##### Numbers of columns"
   ]
  },
  {
   "cell_type": "code",
   "execution_count": 5,
   "id": "fa4430a7-3331-46bc-b41a-547c2a3d3350",
   "metadata": {},
   "outputs": [
    {
     "data": {
      "text/html": [
       "7"
      ],
      "text/latex": [
       "7"
      ],
      "text/markdown": [
       "7"
      ],
      "text/plain": [
       "[1] 7"
      ]
     },
     "metadata": {},
     "output_type": "display_data"
    }
   ],
   "source": [
    "ncol(dataset)"
   ]
  },
  {
   "cell_type": "markdown",
   "id": "53d2dbe1-348c-4cd0-bf9e-d1cc2586be2a",
   "metadata": {},
   "source": [
    "#### Identifying the types of variables"
   ]
  },
  {
   "cell_type": "markdown",
   "id": "364a5046-272a-47df-a617-eeb3731ab79c",
   "metadata": {},
   "source": [
    " "
   ]
  },
  {
   "cell_type": "markdown",
   "id": "40a6f858-b089-4a5c-860a-c371d1b38054",
   "metadata": {},
   "source": [
    "##### Ordinal qualitative variables\n",
    "\n",
    "► Variables that can be ordered or hierarchical"
   ]
  },
  {
   "cell_type": "code",
   "execution_count": 6,
   "id": "b275e74e-fed8-4cd0-b5a9-b4b5c3aa2907",
   "metadata": {},
   "outputs": [
    {
     "data": {
      "text/html": [
       "<table class=\"dataframe\">\n",
       "<caption>A data.frame: 76840 × 1</caption>\n",
       "<thead>\n",
       "\t<tr><th scope=col>Years.of.Studies</th></tr>\n",
       "\t<tr><th scope=col>&lt;int&gt;</th></tr>\n",
       "</thead>\n",
       "<tbody>\n",
       "\t<tr><td>12</td></tr>\n",
       "\t<tr><td>12</td></tr>\n",
       "\t<tr><td>15</td></tr>\n",
       "\t<tr><td> 6</td></tr>\n",
       "\t<tr><td> 9</td></tr>\n",
       "\t<tr><td>12</td></tr>\n",
       "\t<tr><td>12</td></tr>\n",
       "\t<tr><td>12</td></tr>\n",
       "\t<tr><td>14</td></tr>\n",
       "\t<tr><td>12</td></tr>\n",
       "\t<tr><td>12</td></tr>\n",
       "\t<tr><td> 6</td></tr>\n",
       "\t<tr><td> 6</td></tr>\n",
       "\t<tr><td>12</td></tr>\n",
       "\t<tr><td>12</td></tr>\n",
       "\t<tr><td>16</td></tr>\n",
       "\t<tr><td>10</td></tr>\n",
       "\t<tr><td>16</td></tr>\n",
       "\t<tr><td>12</td></tr>\n",
       "\t<tr><td>12</td></tr>\n",
       "\t<tr><td> 1</td></tr>\n",
       "\t<tr><td>16</td></tr>\n",
       "\t<tr><td> 5</td></tr>\n",
       "\t<tr><td>12</td></tr>\n",
       "\t<tr><td> 9</td></tr>\n",
       "\t<tr><td> 5</td></tr>\n",
       "\t<tr><td>16</td></tr>\n",
       "\t<tr><td>12</td></tr>\n",
       "\t<tr><td>14</td></tr>\n",
       "\t<tr><td>12</td></tr>\n",
       "\t<tr><td>⋮</td></tr>\n",
       "\t<tr><td>12</td></tr>\n",
       "\t<tr><td>11</td></tr>\n",
       "\t<tr><td>12</td></tr>\n",
       "\t<tr><td> 9</td></tr>\n",
       "\t<tr><td>12</td></tr>\n",
       "\t<tr><td> 1</td></tr>\n",
       "\t<tr><td>12</td></tr>\n",
       "\t<tr><td>12</td></tr>\n",
       "\t<tr><td>10</td></tr>\n",
       "\t<tr><td> 9</td></tr>\n",
       "\t<tr><td>12</td></tr>\n",
       "\t<tr><td> 8</td></tr>\n",
       "\t<tr><td>12</td></tr>\n",
       "\t<tr><td>10</td></tr>\n",
       "\t<tr><td>12</td></tr>\n",
       "\t<tr><td>16</td></tr>\n",
       "\t<tr><td>12</td></tr>\n",
       "\t<tr><td>16</td></tr>\n",
       "\t<tr><td>16</td></tr>\n",
       "\t<tr><td>12</td></tr>\n",
       "\t<tr><td>16</td></tr>\n",
       "\t<tr><td>16</td></tr>\n",
       "\t<tr><td>12</td></tr>\n",
       "\t<tr><td> 6</td></tr>\n",
       "\t<tr><td> 1</td></tr>\n",
       "\t<tr><td>11</td></tr>\n",
       "\t<tr><td> 7</td></tr>\n",
       "\t<tr><td>12</td></tr>\n",
       "\t<tr><td> 4</td></tr>\n",
       "\t<tr><td> 4</td></tr>\n",
       "</tbody>\n",
       "</table>\n"
      ],
      "text/latex": [
       "A data.frame: 76840 × 1\n",
       "\\begin{tabular}{l}\n",
       " Years.of.Studies\\\\\n",
       " <int>\\\\\n",
       "\\hline\n",
       "\t 12\\\\\n",
       "\t 12\\\\\n",
       "\t 15\\\\\n",
       "\t  6\\\\\n",
       "\t  9\\\\\n",
       "\t 12\\\\\n",
       "\t 12\\\\\n",
       "\t 12\\\\\n",
       "\t 14\\\\\n",
       "\t 12\\\\\n",
       "\t 12\\\\\n",
       "\t  6\\\\\n",
       "\t  6\\\\\n",
       "\t 12\\\\\n",
       "\t 12\\\\\n",
       "\t 16\\\\\n",
       "\t 10\\\\\n",
       "\t 16\\\\\n",
       "\t 12\\\\\n",
       "\t 12\\\\\n",
       "\t  1\\\\\n",
       "\t 16\\\\\n",
       "\t  5\\\\\n",
       "\t 12\\\\\n",
       "\t  9\\\\\n",
       "\t  5\\\\\n",
       "\t 16\\\\\n",
       "\t 12\\\\\n",
       "\t 14\\\\\n",
       "\t 12\\\\\n",
       "\t ⋮\\\\\n",
       "\t 12\\\\\n",
       "\t 11\\\\\n",
       "\t 12\\\\\n",
       "\t  9\\\\\n",
       "\t 12\\\\\n",
       "\t  1\\\\\n",
       "\t 12\\\\\n",
       "\t 12\\\\\n",
       "\t 10\\\\\n",
       "\t  9\\\\\n",
       "\t 12\\\\\n",
       "\t  8\\\\\n",
       "\t 12\\\\\n",
       "\t 10\\\\\n",
       "\t 12\\\\\n",
       "\t 16\\\\\n",
       "\t 12\\\\\n",
       "\t 16\\\\\n",
       "\t 16\\\\\n",
       "\t 12\\\\\n",
       "\t 16\\\\\n",
       "\t 16\\\\\n",
       "\t 12\\\\\n",
       "\t  6\\\\\n",
       "\t  1\\\\\n",
       "\t 11\\\\\n",
       "\t  7\\\\\n",
       "\t 12\\\\\n",
       "\t  4\\\\\n",
       "\t  4\\\\\n",
       "\\end{tabular}\n"
      ],
      "text/markdown": [
       "\n",
       "A data.frame: 76840 × 1\n",
       "\n",
       "| Years.of.Studies &lt;int&gt; |\n",
       "|---|\n",
       "| 12 |\n",
       "| 12 |\n",
       "| 15 |\n",
       "|  6 |\n",
       "|  9 |\n",
       "| 12 |\n",
       "| 12 |\n",
       "| 12 |\n",
       "| 14 |\n",
       "| 12 |\n",
       "| 12 |\n",
       "|  6 |\n",
       "|  6 |\n",
       "| 12 |\n",
       "| 12 |\n",
       "| 16 |\n",
       "| 10 |\n",
       "| 16 |\n",
       "| 12 |\n",
       "| 12 |\n",
       "|  1 |\n",
       "| 16 |\n",
       "|  5 |\n",
       "| 12 |\n",
       "|  9 |\n",
       "|  5 |\n",
       "| 16 |\n",
       "| 12 |\n",
       "| 14 |\n",
       "| 12 |\n",
       "| ⋮ |\n",
       "| 12 |\n",
       "| 11 |\n",
       "| 12 |\n",
       "|  9 |\n",
       "| 12 |\n",
       "|  1 |\n",
       "| 12 |\n",
       "| 12 |\n",
       "| 10 |\n",
       "|  9 |\n",
       "| 12 |\n",
       "|  8 |\n",
       "| 12 |\n",
       "| 10 |\n",
       "| 12 |\n",
       "| 16 |\n",
       "| 12 |\n",
       "| 16 |\n",
       "| 16 |\n",
       "| 12 |\n",
       "| 16 |\n",
       "| 16 |\n",
       "| 12 |\n",
       "|  6 |\n",
       "|  1 |\n",
       "| 11 |\n",
       "|  7 |\n",
       "| 12 |\n",
       "|  4 |\n",
       "|  4 |\n",
       "\n"
      ],
      "text/plain": [
       "      Years.of.Studies\n",
       "1     12              \n",
       "2     12              \n",
       "3     15              \n",
       "4      6              \n",
       "5      9              \n",
       "6     12              \n",
       "7     12              \n",
       "8     12              \n",
       "9     14              \n",
       "10    12              \n",
       "11    12              \n",
       "12     6              \n",
       "13     6              \n",
       "14    12              \n",
       "15    12              \n",
       "16    16              \n",
       "17    10              \n",
       "18    16              \n",
       "19    12              \n",
       "20    12              \n",
       "21     1              \n",
       "22    16              \n",
       "23     5              \n",
       "24    12              \n",
       "25     9              \n",
       "26     5              \n",
       "27    16              \n",
       "28    12              \n",
       "29    14              \n",
       "30    12              \n",
       "⋮     ⋮               \n",
       "76811 12              \n",
       "76812 11              \n",
       "76813 12              \n",
       "76814  9              \n",
       "76815 12              \n",
       "76816  1              \n",
       "76817 12              \n",
       "76818 12              \n",
       "76819 10              \n",
       "76820  9              \n",
       "76821 12              \n",
       "76822  8              \n",
       "76823 12              \n",
       "76824 10              \n",
       "76825 12              \n",
       "76826 16              \n",
       "76827 12              \n",
       "76828 16              \n",
       "76829 16              \n",
       "76830 12              \n",
       "76831 16              \n",
       "76832 16              \n",
       "76833 12              \n",
       "76834  6              \n",
       "76835  1              \n",
       "76836 11              \n",
       "76837  7              \n",
       "76838 12              \n",
       "76839  4              \n",
       "76840  4              "
      ]
     },
     "metadata": {},
     "output_type": "display_data"
    }
   ],
   "source": [
    "select(dataset, Years.of.Studies)"
   ]
  },
  {
   "cell_type": "markdown",
   "id": "cfde3352-a8aa-4f1e-8cc4-9af7cffb7d18",
   "metadata": {},
   "source": [
    "##### Ordering Years.of.Studies"
   ]
  },
  {
   "cell_type": "code",
   "execution_count": 7,
   "id": "ee8f981c-a697-455f-8ef9-71bf85ed3c06",
   "metadata": {},
   "outputs": [
    {
     "data": {
      "text/html": [
       "<strong>$Years.of.Studies</strong> = <style>\n",
       ".list-inline {list-style: none; margin:0; padding: 0}\n",
       ".list-inline>li {display: inline-block}\n",
       ".list-inline>li:not(:last-child)::after {content: \"\\00b7\"; padding: 0 .5ex}\n",
       "</style>\n",
       "<ol class=list-inline><li>1</li><li>2</li><li>3</li><li>4</li><li>5</li><li>6</li><li>7</li><li>8</li><li>9</li><li>10</li><li>11</li><li>12</li><li>13</li><li>14</li><li>15</li><li>16</li><li>17</li></ol>\n"
      ],
      "text/latex": [
       "\\textbf{\\$Years.of.Studies} = \\begin{enumerate*}\n",
       "\\item 1\n",
       "\\item 2\n",
       "\\item 3\n",
       "\\item 4\n",
       "\\item 5\n",
       "\\item 6\n",
       "\\item 7\n",
       "\\item 8\n",
       "\\item 9\n",
       "\\item 10\n",
       "\\item 11\n",
       "\\item 12\n",
       "\\item 13\n",
       "\\item 14\n",
       "\\item 15\n",
       "\\item 16\n",
       "\\item 17\n",
       "\\end{enumerate*}\n"
      ],
      "text/markdown": [
       "**$Years.of.Studies** = 1. 1\n",
       "2. 2\n",
       "3. 3\n",
       "4. 4\n",
       "5. 5\n",
       "6. 6\n",
       "7. 7\n",
       "8. 8\n",
       "9. 9\n",
       "10. 10\n",
       "11. 11\n",
       "12. 12\n",
       "13. 13\n",
       "14. 14\n",
       "15. 15\n",
       "16. 16\n",
       "17. 17\n",
       "\n",
       "\n"
      ],
      "text/plain": [
       "$Years.of.Studies\n",
       " [1]  1  2  3  4  5  6  7  8  9 10 11 12 13 14 15 16 17\n"
      ]
     },
     "metadata": {},
     "output_type": "display_data"
    }
   ],
   "source": [
    "c(arrange(unique(select(dataset, Years.of.Studies)), Years.of.Studies))"
   ]
  },
  {
   "cell_type": "markdown",
   "id": "e334d2c3-e90f-4264-9a8a-7b4668358574",
   "metadata": {},
   "source": [
    " "
   ]
  },
  {
   "cell_type": "markdown",
   "id": "637357c2-caef-4e6c-9f2b-1548f5591c9b",
   "metadata": {},
   "source": [
    "##### Nominal qualitative variables\n",
    "\n",
    "► Variables that cannot be ordered or hierarchical"
   ]
  },
  {
   "cell_type": "code",
   "execution_count": 8,
   "id": "03864405-4395-4ab1-9e91-a07bbfd6a77b",
   "metadata": {},
   "outputs": [
    {
     "data": {
      "text/html": [
       "<strong>$UF</strong> = <style>\n",
       ".list-inline {list-style: none; margin:0; padding: 0}\n",
       ".list-inline>li {display: inline-block}\n",
       ".list-inline>li:not(:last-child)::after {content: \"\\00b7\"; padding: 0 .5ex}\n",
       "</style>\n",
       "<ol class=list-inline><li>11</li><li>12</li><li>13</li><li>14</li><li>15</li><li>16</li><li>17</li><li>21</li><li>22</li><li>23</li><li>24</li><li>25</li><li>26</li><li>27</li><li>28</li><li>29</li><li>31</li><li>32</li><li>33</li><li>35</li><li>41</li><li>42</li><li>43</li><li>50</li><li>51</li><li>52</li><li>53</li></ol>\n"
      ],
      "text/latex": [
       "\\textbf{\\$UF} = \\begin{enumerate*}\n",
       "\\item 11\n",
       "\\item 12\n",
       "\\item 13\n",
       "\\item 14\n",
       "\\item 15\n",
       "\\item 16\n",
       "\\item 17\n",
       "\\item 21\n",
       "\\item 22\n",
       "\\item 23\n",
       "\\item 24\n",
       "\\item 25\n",
       "\\item 26\n",
       "\\item 27\n",
       "\\item 28\n",
       "\\item 29\n",
       "\\item 31\n",
       "\\item 32\n",
       "\\item 33\n",
       "\\item 35\n",
       "\\item 41\n",
       "\\item 42\n",
       "\\item 43\n",
       "\\item 50\n",
       "\\item 51\n",
       "\\item 52\n",
       "\\item 53\n",
       "\\end{enumerate*}\n"
      ],
      "text/markdown": [
       "**$UF** = 1. 11\n",
       "2. 12\n",
       "3. 13\n",
       "4. 14\n",
       "5. 15\n",
       "6. 16\n",
       "7. 17\n",
       "8. 21\n",
       "9. 22\n",
       "10. 23\n",
       "11. 24\n",
       "12. 25\n",
       "13. 26\n",
       "14. 27\n",
       "15. 28\n",
       "16. 29\n",
       "17. 31\n",
       "18. 32\n",
       "19. 33\n",
       "20. 35\n",
       "21. 41\n",
       "22. 42\n",
       "23. 43\n",
       "24. 50\n",
       "25. 51\n",
       "26. 52\n",
       "27. 53\n",
       "\n",
       "\n"
      ],
      "text/plain": [
       "$UF\n",
       " [1] 11 12 13 14 15 16 17 21 22 23 24 25 26 27 28 29 31 32 33 35 41 42 43 50 51\n",
       "[26] 52 53\n"
      ]
     },
     "metadata": {},
     "output_type": "display_data"
    }
   ],
   "source": [
    "c(arrange(unique(select(dataset, UF)), UF))"
   ]
  },
  {
   "cell_type": "code",
   "execution_count": 9,
   "id": "fafb57e3-4e2e-4243-a9bd-778da8212f91",
   "metadata": {},
   "outputs": [
    {
     "data": {
      "text/html": [
       "<strong>$Sex</strong> = <style>\n",
       ".list-inline {list-style: none; margin:0; padding: 0}\n",
       ".list-inline>li {display: inline-block}\n",
       ".list-inline>li:not(:last-child)::after {content: \"\\00b7\"; padding: 0 .5ex}\n",
       "</style>\n",
       "<ol class=list-inline><li>0</li><li>1</li></ol>\n"
      ],
      "text/latex": [
       "\\textbf{\\$Sex} = \\begin{enumerate*}\n",
       "\\item 0\n",
       "\\item 1\n",
       "\\end{enumerate*}\n"
      ],
      "text/markdown": [
       "**$Sex** = 1. 0\n",
       "2. 1\n",
       "\n",
       "\n"
      ],
      "text/plain": [
       "$Sex\n",
       "[1] 0 1\n"
      ]
     },
     "metadata": {},
     "output_type": "display_data"
    }
   ],
   "source": [
    "c(arrange(unique(select(dataset, Sex)), Sex))"
   ]
  },
  {
   "cell_type": "code",
   "execution_count": 10,
   "id": "afcbb7f4-baf5-4fc1-aeb3-0930d035f7a9",
   "metadata": {},
   "outputs": [
    {
     "data": {
      "text/html": [
       "<strong>$Color</strong> = <style>\n",
       ".list-inline {list-style: none; margin:0; padding: 0}\n",
       ".list-inline>li {display: inline-block}\n",
       ".list-inline>li:not(:last-child)::after {content: \"\\00b7\"; padding: 0 .5ex}\n",
       "</style>\n",
       "<ol class=list-inline><li>0</li><li>2</li><li>4</li><li>6</li><li>8</li></ol>\n"
      ],
      "text/latex": [
       "\\textbf{\\$Color} = \\begin{enumerate*}\n",
       "\\item 0\n",
       "\\item 2\n",
       "\\item 4\n",
       "\\item 6\n",
       "\\item 8\n",
       "\\end{enumerate*}\n"
      ],
      "text/markdown": [
       "**$Color** = 1. 0\n",
       "2. 2\n",
       "3. 4\n",
       "4. 6\n",
       "5. 8\n",
       "\n",
       "\n"
      ],
      "text/plain": [
       "$Color\n",
       "[1] 0 2 4 6 8\n"
      ]
     },
     "metadata": {},
     "output_type": "display_data"
    }
   ],
   "source": [
    "c(arrange(unique(select(dataset, Color)), Color))"
   ]
  },
  {
   "cell_type": "markdown",
   "id": "106e126e-8913-4e47-81da-161012e4b710",
   "metadata": {},
   "source": [
    " "
   ]
  },
  {
   "cell_type": "markdown",
   "id": "38cdb79f-16e6-4d3e-b9df-a967cdc50a62",
   "metadata": {},
   "source": [
    "##### Discrete quantitative variables\n",
    "\n",
    "► Variables that represent a count where the possible values form a finite or enumerable set."
   ]
  },
  {
   "cell_type": "code",
   "execution_count": 11,
   "id": "565128d8-a7ad-426a-b0e0-4ab8daf11f12",
   "metadata": {},
   "outputs": [
    {
     "data": {
      "text/html": [
       "'From: 13 To: 99 years old'"
      ],
      "text/latex": [
       "'From: 13 To: 99 years old'"
      ],
      "text/markdown": [
       "'From: 13 To: 99 years old'"
      ],
      "text/plain": [
       "From: 13 To: 99 years old"
      ]
     },
     "metadata": {},
     "output_type": "display_data"
    }
   ],
   "source": [
    "glue('From: {min(dataset$Age)} To: {max(dataset$Age)} years old')"
   ]
  },
  {
   "cell_type": "markdown",
   "id": "10c577e0-ac96-4060-b58f-8801b4a56c68",
   "metadata": {},
   "source": [
    " "
   ]
  },
  {
   "cell_type": "markdown",
   "id": "12b89b98-469e-4330-8635-f7d141cb51e9",
   "metadata": {},
   "source": [
    "##### Continuous quantitative variables\n",
    "\n",
    "► Variables that represent a count or measurement that take values on a continuous scale (real numbers)."
   ]
  },
  {
   "cell_type": "code",
   "execution_count": 12,
   "id": "ea7603ec-6a52-49e7-b53a-d1cd8c72382a",
   "metadata": {},
   "outputs": [
    {
     "data": {
      "text/html": [
       "'From: 1.339244614 To: 2.028496765 meters'"
      ],
      "text/latex": [
       "'From: 1.339244614 To: 2.028496765 meters'"
      ],
      "text/markdown": [
       "'From: 1.339244614 To: 2.028496765 meters'"
      ],
      "text/plain": [
       "From: 1.339244614 To: 2.028496765 meters"
      ]
     },
     "metadata": {},
     "output_type": "display_data"
    }
   ],
   "source": [
    "glue('From: {min(dataset$Height)} To: {max(dataset$Height)} meters')"
   ]
  },
  {
   "cell_type": "markdown",
   "id": "50a92be2-6c00-4d2e-bfad-e9852a87c556",
   "metadata": {},
   "source": [
    " "
   ]
  },
  {
   "cell_type": "markdown",
   "id": "252c2c6c-a0e1-4c90-bb4c-9e31ddb45c2a",
   "metadata": {},
   "source": [
    " "
   ]
  },
  {
   "cell_type": "markdown",
   "id": "c411dc2e-7225-46fd-848a-8917f685d140",
   "metadata": {},
   "source": [
    "### Frequency distribution"
   ]
  },
  {
   "cell_type": "markdown",
   "id": "349b1b6d-c218-4eb3-bfae-73cccde1c0f1",
   "metadata": {},
   "source": [
    "#### Frequency distribution for qualitative variables"
   ]
  },
  {
   "cell_type": "code",
   "execution_count": 13,
   "id": "1435cde4-af27-4a81-a3e6-9a37a456af6b",
   "metadata": {},
   "outputs": [
    {
     "data": {
      "text/html": [
       "<table class=\"dataframe\">\n",
       "<caption>A data.frame: 10 × 7</caption>\n",
       "<thead>\n",
       "\t<tr><th></th><th scope=col>UF</th><th scope=col>Sex</th><th scope=col>Age</th><th scope=col>Color</th><th scope=col>Years.of.Studies</th><th scope=col>Income</th><th scope=col>Height</th></tr>\n",
       "\t<tr><th></th><th scope=col>&lt;int&gt;</th><th scope=col>&lt;int&gt;</th><th scope=col>&lt;int&gt;</th><th scope=col>&lt;int&gt;</th><th scope=col>&lt;int&gt;</th><th scope=col>&lt;int&gt;</th><th scope=col>&lt;dbl&gt;</th></tr>\n",
       "</thead>\n",
       "<tbody>\n",
       "\t<tr><th scope=row>1</th><td>11</td><td>0</td><td>23</td><td>8</td><td>12</td><td> 800</td><td>1.603808</td></tr>\n",
       "\t<tr><th scope=row>2</th><td>11</td><td>1</td><td>23</td><td>2</td><td>12</td><td>1150</td><td>1.739790</td></tr>\n",
       "\t<tr><th scope=row>3</th><td>11</td><td>1</td><td>35</td><td>8</td><td>15</td><td> 880</td><td>1.760444</td></tr>\n",
       "\t<tr><th scope=row>4</th><td>11</td><td>0</td><td>46</td><td>2</td><td> 6</td><td>3500</td><td>1.783158</td></tr>\n",
       "\t<tr><th scope=row>5</th><td>11</td><td>1</td><td>47</td><td>8</td><td> 9</td><td> 150</td><td>1.690631</td></tr>\n",
       "\t<tr><th scope=row>6</th><td>11</td><td>1</td><td>34</td><td>8</td><td>12</td><td> 790</td><td>1.637906</td></tr>\n",
       "\t<tr><th scope=row>7</th><td>11</td><td>0</td><td>57</td><td>8</td><td>12</td><td>3150</td><td>1.570078</td></tr>\n",
       "\t<tr><th scope=row>8</th><td>11</td><td>1</td><td>60</td><td>8</td><td>12</td><td>1700</td><td>1.608495</td></tr>\n",
       "\t<tr><th scope=row>9</th><td>11</td><td>1</td><td>50</td><td>4</td><td>14</td><td>1800</td><td>1.780329</td></tr>\n",
       "\t<tr><th scope=row>10</th><td>11</td><td>0</td><td>26</td><td>8</td><td>12</td><td>1150</td><td>1.793203</td></tr>\n",
       "</tbody>\n",
       "</table>\n"
      ],
      "text/latex": [
       "A data.frame: 10 × 7\n",
       "\\begin{tabular}{r|lllllll}\n",
       "  & UF & Sex & Age & Color & Years.of.Studies & Income & Height\\\\\n",
       "  & <int> & <int> & <int> & <int> & <int> & <int> & <dbl>\\\\\n",
       "\\hline\n",
       "\t1 & 11 & 0 & 23 & 8 & 12 &  800 & 1.603808\\\\\n",
       "\t2 & 11 & 1 & 23 & 2 & 12 & 1150 & 1.739790\\\\\n",
       "\t3 & 11 & 1 & 35 & 8 & 15 &  880 & 1.760444\\\\\n",
       "\t4 & 11 & 0 & 46 & 2 &  6 & 3500 & 1.783158\\\\\n",
       "\t5 & 11 & 1 & 47 & 8 &  9 &  150 & 1.690631\\\\\n",
       "\t6 & 11 & 1 & 34 & 8 & 12 &  790 & 1.637906\\\\\n",
       "\t7 & 11 & 0 & 57 & 8 & 12 & 3150 & 1.570078\\\\\n",
       "\t8 & 11 & 1 & 60 & 8 & 12 & 1700 & 1.608495\\\\\n",
       "\t9 & 11 & 1 & 50 & 4 & 14 & 1800 & 1.780329\\\\\n",
       "\t10 & 11 & 0 & 26 & 8 & 12 & 1150 & 1.793203\\\\\n",
       "\\end{tabular}\n"
      ],
      "text/markdown": [
       "\n",
       "A data.frame: 10 × 7\n",
       "\n",
       "| <!--/--> | UF &lt;int&gt; | Sex &lt;int&gt; | Age &lt;int&gt; | Color &lt;int&gt; | Years.of.Studies &lt;int&gt; | Income &lt;int&gt; | Height &lt;dbl&gt; |\n",
       "|---|---|---|---|---|---|---|---|\n",
       "| 1 | 11 | 0 | 23 | 8 | 12 |  800 | 1.603808 |\n",
       "| 2 | 11 | 1 | 23 | 2 | 12 | 1150 | 1.739790 |\n",
       "| 3 | 11 | 1 | 35 | 8 | 15 |  880 | 1.760444 |\n",
       "| 4 | 11 | 0 | 46 | 2 |  6 | 3500 | 1.783158 |\n",
       "| 5 | 11 | 1 | 47 | 8 |  9 |  150 | 1.690631 |\n",
       "| 6 | 11 | 1 | 34 | 8 | 12 |  790 | 1.637906 |\n",
       "| 7 | 11 | 0 | 57 | 8 | 12 | 3150 | 1.570078 |\n",
       "| 8 | 11 | 1 | 60 | 8 | 12 | 1700 | 1.608495 |\n",
       "| 9 | 11 | 1 | 50 | 4 | 14 | 1800 | 1.780329 |\n",
       "| 10 | 11 | 0 | 26 | 8 | 12 | 1150 | 1.793203 |\n",
       "\n"
      ],
      "text/plain": [
       "   UF Sex Age Color Years.of.Studies Income Height  \n",
       "1  11 0   23  8     12                800   1.603808\n",
       "2  11 1   23  2     12               1150   1.739790\n",
       "3  11 1   35  8     15                880   1.760444\n",
       "4  11 0   46  2      6               3500   1.783158\n",
       "5  11 1   47  8      9                150   1.690631\n",
       "6  11 1   34  8     12                790   1.637906\n",
       "7  11 0   57  8     12               3150   1.570078\n",
       "8  11 1   60  8     12               1700   1.608495\n",
       "9  11 1   50  4     14               1800   1.780329\n",
       "10 11 0   26  8     12               1150   1.793203"
      ]
     },
     "metadata": {},
     "output_type": "display_data"
    }
   ],
   "source": [
    "head(dataset, 10)"
   ]
  },
  {
   "cell_type": "markdown",
   "id": "62faa800-9d35-45df-a257-47d8f8a887e6",
   "metadata": {},
   "source": [
    "#### Variable Sex"
   ]
  },
  {
   "cell_type": "markdown",
   "id": "d35bd7e7-72f6-4301-a92f-da2aecce4d77",
   "metadata": {},
   "source": [
    "##### Counting variable e creating percentage"
   ]
  },
  {
   "cell_type": "code",
   "execution_count": 14,
   "id": "0c728190-8112-4f00-b2ab-8dbade817230",
   "metadata": {},
   "outputs": [
    {
     "data": {
      "text/plain": [
       "\n",
       "    0     1 \n",
       "53250 23590 "
      ]
     },
     "metadata": {},
     "output_type": "display_data"
    }
   ],
   "source": [
    "table(dataset$Sex)"
   ]
  },
  {
   "cell_type": "code",
   "execution_count": 15,
   "id": "e6a3dd9e-2af8-43f4-a96d-1ec18f1fbf96",
   "metadata": {},
   "outputs": [
    {
     "data": {
      "text/plain": [
       "\n",
       "       0        1 \n",
       "69.29984 30.70016 "
      ]
     },
     "metadata": {},
     "output_type": "display_data"
    }
   ],
   "source": [
    "prop.table(table(dataset$Sex)) * 100"
   ]
  },
  {
   "cell_type": "code",
   "execution_count": 16,
   "id": "3052e12f-0aef-462b-bbad-d8556d95275f",
   "metadata": {},
   "outputs": [
    {
     "data": {
      "text/html": [
       "<table class=\"dataframe\">\n",
       "<caption>A matrix: 2 × 2 of type dbl</caption>\n",
       "<thead>\n",
       "\t<tr><th></th><th scope=col>Frequency</th><th scope=col>Percent</th></tr>\n",
       "</thead>\n",
       "<tbody>\n",
       "\t<tr><th scope=row>0</th><td>53250</td><td>69.29984</td></tr>\n",
       "\t<tr><th scope=row>1</th><td>23590</td><td>30.70016</td></tr>\n",
       "</tbody>\n",
       "</table>\n"
      ],
      "text/latex": [
       "A matrix: 2 × 2 of type dbl\n",
       "\\begin{tabular}{r|ll}\n",
       "  & Frequency & Percent\\\\\n",
       "\\hline\n",
       "\t0 & 53250 & 69.29984\\\\\n",
       "\t1 & 23590 & 30.70016\\\\\n",
       "\\end{tabular}\n"
      ],
      "text/markdown": [
       "\n",
       "A matrix: 2 × 2 of type dbl\n",
       "\n",
       "| <!--/--> | Frequency | Percent |\n",
       "|---|---|---|\n",
       "| 0 | 53250 | 69.29984 |\n",
       "| 1 | 23590 | 30.70016 |\n",
       "\n"
      ],
      "text/plain": [
       "  Frequency Percent \n",
       "0 53250     69.29984\n",
       "1 23590     30.70016"
      ]
     },
     "metadata": {},
     "output_type": "display_data"
    }
   ],
   "source": [
    "frequency_Sex <- cbind(Frequency = table(dataset$Sex), Percent=prop.table(table(dataset$Sex))*100)\n",
    "frequency_Sex"
   ]
  },
  {
   "cell_type": "code",
   "execution_count": 17,
   "id": "3bc82793-b26e-4917-add5-94ec7cd9e044",
   "metadata": {},
   "outputs": [],
   "source": [
    "colnames(frequency_Sex) <- c('Frequency', 'Percent(%)')\n",
    "rownames(frequency_Sex) <- c('Masculine', 'Feminine')"
   ]
  },
  {
   "cell_type": "code",
   "execution_count": 18,
   "id": "2288be56-c086-4a1e-bd5e-273fa58c59d0",
   "metadata": {
    "scrolled": true
   },
   "outputs": [
    {
     "data": {
      "text/html": [
       "<table class=\"dataframe\">\n",
       "<caption>A matrix: 2 × 2 of type dbl</caption>\n",
       "<thead>\n",
       "\t<tr><th></th><th scope=col>Frequency</th><th scope=col>Percent(%)</th></tr>\n",
       "</thead>\n",
       "<tbody>\n",
       "\t<tr><th scope=row>Masculine</th><td>53250</td><td>69.29984</td></tr>\n",
       "\t<tr><th scope=row>Feminine</th><td>23590</td><td>30.70016</td></tr>\n",
       "</tbody>\n",
       "</table>\n"
      ],
      "text/latex": [
       "A matrix: 2 × 2 of type dbl\n",
       "\\begin{tabular}{r|ll}\n",
       "  & Frequency & Percent(\\%)\\\\\n",
       "\\hline\n",
       "\tMasculine & 53250 & 69.29984\\\\\n",
       "\tFeminine & 23590 & 30.70016\\\\\n",
       "\\end{tabular}\n"
      ],
      "text/markdown": [
       "\n",
       "A matrix: 2 × 2 of type dbl\n",
       "\n",
       "| <!--/--> | Frequency | Percent(%) |\n",
       "|---|---|---|\n",
       "| Masculine | 53250 | 69.29984 |\n",
       "| Feminine | 23590 | 30.70016 |\n",
       "\n"
      ],
      "text/plain": [
       "          Frequency Percent(%)\n",
       "Masculine 53250     69.29984  \n",
       "Feminine  23590     30.70016  "
      ]
     },
     "metadata": {},
     "output_type": "display_data"
    }
   ],
   "source": [
    "frequency_Sex"
   ]
  },
  {
   "cell_type": "markdown",
   "id": "c6e2c890-4408-4fc0-9973-3f5942e70dc7",
   "metadata": {},
   "source": [
    "  "
   ]
  },
  {
   "cell_type": "markdown",
   "id": "543e83ca-060b-4498-bc6d-6f285ed44d0a",
   "metadata": {},
   "source": [
    "#### Crossing data in frequency distribution"
   ]
  },
  {
   "cell_type": "markdown",
   "id": "5af2fb6c-6812-4527-8b30-77de8e30487a",
   "metadata": {},
   "source": [
    "##### Variables: Sex x Color"
   ]
  },
  {
   "cell_type": "code",
   "execution_count": 19,
   "id": "ee6c7fdb-265b-4272-8882-c817bdd0b356",
   "metadata": {},
   "outputs": [
    {
     "data": {
      "text/plain": [
       "   \n",
       "        0     2     4     6     8\n",
       "  0   256 22194  5502   235 25063\n",
       "  1   101  9621  2889   117 10862"
      ]
     },
     "metadata": {},
     "output_type": "display_data"
    }
   ],
   "source": [
    "frequency_sex_color <- table(dataset$Sex, dataset$Color)\n",
    "frequency_sex_color"
   ]
  },
  {
   "cell_type": "code",
   "execution_count": 20,
   "id": "283bd3f2-496b-4cb6-8179-14790e108252",
   "metadata": {},
   "outputs": [],
   "source": [
    "colnames(frequency_sex_color) <- c('Indigenous', 'White', 'Black', 'Yellow', 'Brown')\n",
    "rownames(frequency_sex_color) <- c('Masculine', 'Feminine')"
   ]
  },
  {
   "cell_type": "code",
   "execution_count": 21,
   "id": "ace7a7d3-bd3d-40fe-9b8f-0988a9eb4191",
   "metadata": {},
   "outputs": [
    {
     "data": {
      "text/plain": [
       "           \n",
       "            Indigenous White Black Yellow Brown\n",
       "  Masculine        256 22194  5502    235 25063\n",
       "  Feminine         101  9621  2889    117 10862"
      ]
     },
     "metadata": {},
     "output_type": "display_data"
    }
   ],
   "source": [
    "frequency_sex_color"
   ]
  },
  {
   "cell_type": "code",
   "execution_count": 22,
   "id": "92b336af-d501-4371-a139-bbbb87d03a1a",
   "metadata": {},
   "outputs": [
    {
     "data": {
      "text/html": [
       "<table class=\"dataframe\">\n",
       "<caption>A matrix: 2 × 5 of type int</caption>\n",
       "<thead>\n",
       "\t<tr><th></th><th scope=col>Indigenous</th><th scope=col>White</th><th scope=col>Black</th><th scope=col>Yellow</th><th scope=col>Brown</th></tr>\n",
       "</thead>\n",
       "<tbody>\n",
       "\t<tr><th scope=row>Masculine</th><td>256</td><td>22194</td><td>5502</td><td>235</td><td>25063</td></tr>\n",
       "\t<tr><th scope=row>Feminine</th><td>101</td><td> 9621</td><td>2889</td><td>117</td><td>10862</td></tr>\n",
       "</tbody>\n",
       "</table>\n"
      ],
      "text/latex": [
       "A matrix: 2 × 5 of type int\n",
       "\\begin{tabular}{r|lllll}\n",
       "  & Indigenous & White & Black & Yellow & Brown\\\\\n",
       "\\hline\n",
       "\tMasculine & 256 & 22194 & 5502 & 235 & 25063\\\\\n",
       "\tFeminine & 101 &  9621 & 2889 & 117 & 10862\\\\\n",
       "\\end{tabular}\n"
      ],
      "text/markdown": [
       "\n",
       "A matrix: 2 × 5 of type int\n",
       "\n",
       "| <!--/--> | Indigenous | White | Black | Yellow | Brown |\n",
       "|---|---|---|---|---|---|\n",
       "| Masculine | 256 | 22194 | 5502 | 235 | 25063 |\n",
       "| Feminine | 101 |  9621 | 2889 | 117 | 10862 |\n",
       "\n"
      ],
      "text/plain": [
       "          Indigenous White Black Yellow Brown\n",
       "Masculine 256        22194 5502  235    25063\n",
       "Feminine  101         9621 2889  117    10862"
      ]
     },
     "metadata": {},
     "output_type": "display_data"
    }
   ],
   "source": [
    "frequency_sex_color <- cbind(frequency_sex_color)\n",
    "frequency_sex_color"
   ]
  },
  {
   "cell_type": "markdown",
   "id": "c32abd2b-181c-42b4-b2ac-c5f9ce1d5f52",
   "metadata": {},
   "source": [
    "#### Percent"
   ]
  },
  {
   "cell_type": "code",
   "execution_count": 23,
   "id": "7e0d04d7-dfca-400e-b41e-3870f2ac6196",
   "metadata": {},
   "outputs": [
    {
     "data": {
      "text/html": [
       "<table class=\"dataframe\">\n",
       "<caption>A matrix: 2 × 5 of type dbl</caption>\n",
       "<thead>\n",
       "\t<tr><th></th><th scope=col>Indigenous</th><th scope=col>White</th><th scope=col>Black</th><th scope=col>Yellow</th><th scope=col>Brown</th></tr>\n",
       "</thead>\n",
       "<tbody>\n",
       "\t<tr><th scope=row>Masculine</th><td>0.3331598</td><td>28.88339</td><td>7.160333</td><td>0.3058303</td><td>32.61713</td></tr>\n",
       "\t<tr><th scope=row>Feminine</th><td>0.1314420</td><td>12.52082</td><td>3.759761</td><td>0.1522644</td><td>14.13587</td></tr>\n",
       "</tbody>\n",
       "</table>\n"
      ],
      "text/latex": [
       "A matrix: 2 × 5 of type dbl\n",
       "\\begin{tabular}{r|lllll}\n",
       "  & Indigenous & White & Black & Yellow & Brown\\\\\n",
       "\\hline\n",
       "\tMasculine & 0.3331598 & 28.88339 & 7.160333 & 0.3058303 & 32.61713\\\\\n",
       "\tFeminine & 0.1314420 & 12.52082 & 3.759761 & 0.1522644 & 14.13587\\\\\n",
       "\\end{tabular}\n"
      ],
      "text/markdown": [
       "\n",
       "A matrix: 2 × 5 of type dbl\n",
       "\n",
       "| <!--/--> | Indigenous | White | Black | Yellow | Brown |\n",
       "|---|---|---|---|---|---|\n",
       "| Masculine | 0.3331598 | 28.88339 | 7.160333 | 0.3058303 | 32.61713 |\n",
       "| Feminine | 0.1314420 | 12.52082 | 3.759761 | 0.1522644 | 14.13587 |\n",
       "\n"
      ],
      "text/plain": [
       "          Indigenous White    Black    Yellow    Brown   \n",
       "Masculine 0.3331598  28.88339 7.160333 0.3058303 32.61713\n",
       "Feminine  0.1314420  12.52082 3.759761 0.1522644 14.13587"
      ]
     },
     "metadata": {},
     "output_type": "display_data"
    }
   ],
   "source": [
    "frequency_sex_color_percent <- prop.table(frequency_sex_color)*100\n",
    "frequency_sex_color_percent"
   ]
  },
  {
   "cell_type": "markdown",
   "id": "43e0bbd0-834a-4acf-b3fe-8cdd285d65d6",
   "metadata": {},
   "source": [
    " "
   ]
  },
  {
   "cell_type": "markdown",
   "id": "247f53bf-e342-468f-8122-45fcca86f4cc",
   "metadata": {},
   "source": [
    " "
   ]
  },
  {
   "cell_type": "markdown",
   "id": "60b74640-4e7c-4c6f-948c-754c191950b7",
   "metadata": {},
   "source": [
    "### Frequency distribution for quantitative variables (fixed amplitude classes)"
   ]
  },
  {
   "cell_type": "markdown",
   "id": "065bd54f-4a22-463b-b54a-be37fc14adc4",
   "metadata": {},
   "source": [
    "#### Applying Sturges' rule\n",
    "\n",
    "# $$k = 1 + \\frac {10}{3}\\log_{10}n$$"
   ]
  },
  {
   "cell_type": "code",
   "execution_count": 24,
   "id": "ac0132a6-5d5f-4c51-a04d-07576ff3c621",
   "metadata": {},
   "outputs": [],
   "source": [
    "n <- nrow(dataset)"
   ]
  },
  {
   "cell_type": "code",
   "execution_count": 25,
   "id": "a057afde-590b-4fb3-b3c3-3d8e66e0901f",
   "metadata": {},
   "outputs": [
    {
     "data": {
      "text/html": [
       "76840"
      ],
      "text/latex": [
       "76840"
      ],
      "text/markdown": [
       "76840"
      ],
      "text/plain": [
       "[1] 76840"
      ]
     },
     "metadata": {},
     "output_type": "display_data"
    }
   ],
   "source": [
    "n"
   ]
  },
  {
   "cell_type": "code",
   "execution_count": 26,
   "id": "b7c6a544-364b-4a0d-b365-c82d6c3bcb7f",
   "metadata": {},
   "outputs": [],
   "source": [
    "k <- 1 + (10/3) * log10(n)"
   ]
  },
  {
   "cell_type": "code",
   "execution_count": 27,
   "id": "0a97b63c-07a6-4274-a2c3-26d77f404504",
   "metadata": {},
   "outputs": [
    {
     "data": {
      "text/html": [
       "17.2852911872989"
      ],
      "text/latex": [
       "17.2852911872989"
      ],
      "text/markdown": [
       "17.2852911872989"
      ],
      "text/plain": [
       "[1] 17.28529"
      ]
     },
     "metadata": {},
     "output_type": "display_data"
    }
   ],
   "source": [
    "k"
   ]
  },
  {
   "cell_type": "markdown",
   "id": "aca31b22-81cf-4d86-bcb9-42d952c1150b",
   "metadata": {},
   "source": [
    "##### Applying rounding of the formula result"
   ]
  },
  {
   "cell_type": "code",
   "execution_count": 28,
   "id": "630a0db5-744b-4d03-86fc-7fe0bf451be1",
   "metadata": {},
   "outputs": [
    {
     "data": {
      "text/html": [
       "17"
      ],
      "text/latex": [
       "17"
      ],
      "text/markdown": [
       "17"
      ],
      "text/plain": [
       "[1] 17"
      ]
     },
     "metadata": {},
     "output_type": "display_data"
    }
   ],
   "source": [
    "k <- round(k)\n",
    "k"
   ]
  },
  {
   "cell_type": "markdown",
   "id": "3207dfe8-7fdc-47ee-bdfd-fe8184c13360",
   "metadata": {},
   "source": [
    "##### We then reach the number 17 of classes to construct the frequency table for fixed amplitude classes, we will use Income to carry out this analysis"
   ]
  },
  {
   "cell_type": "code",
   "execution_count": 29,
   "id": "2f9634cd-6699-46d2-bf79-0bef49f62063",
   "metadata": {},
   "outputs": [
    {
     "data": {
      "text/html": [
       "'Income Ranges From: 0 To: 200000 R$'"
      ],
      "text/latex": [
       "'Income Ranges From: 0 To: 200000 R\\$'"
      ],
      "text/markdown": [
       "'Income Ranges From: 0 To: 200000 R$'"
      ],
      "text/plain": [
       "Income Ranges From: 0 To: 200000 R$"
      ]
     },
     "metadata": {},
     "output_type": "display_data"
    }
   ],
   "source": [
    "glue('Income Ranges From: {min(dataset$Income)} To: {max(dataset$Income)} R$')"
   ]
  },
  {
   "cell_type": "code",
   "execution_count": 30,
   "id": "608a958b-0228-42f4-861b-fb334cf0702d",
   "metadata": {},
   "outputs": [
    {
     "data": {
      "text/html": [
       "11764.7058823529"
      ],
      "text/latex": [
       "11764.7058823529"
      ],
      "text/markdown": [
       "11764.7058823529"
      ],
      "text/plain": [
       "[1] 11764.71"
      ]
     },
     "metadata": {},
     "output_type": "display_data"
    }
   ],
   "source": [
    "max(dataset$Income) / k"
   ]
  },
  {
   "cell_type": "code",
   "execution_count": 31,
   "id": "eb7b1c18-0265-4732-b3ea-33a837fa7bd2",
   "metadata": {},
   "outputs": [],
   "source": [
    "labels_r <- c(\n",
    "    '      0.00 |—|  11,764.70', \n",
    "    ' 11,764.70  —|  23,529.40', \n",
    "    ' 23,529.40  —|  35,294.10', \n",
    "    ' 35,294.10  —|  47,058.80', \n",
    "    ' 47,058.80  —|  58,823.50', \n",
    "    ' 58,823.50  —|  70,588.20', \n",
    "    ' 70,588.20  —|  82,352.90', \n",
    "    ' 82,352.90  —|  94,117.60', \n",
    "    ' 94,117.60  —| 105,882.00', \n",
    "    '105,882.00  —| 117,647.00', \n",
    "    '117,647.00  —| 129,412.00', \n",
    "    '129,412.00  —| 141,176.00', \n",
    "    '141,176.00  —| 152,941.00', \n",
    "    '152,941.00  —| 164,706.00', \n",
    "    '164,706.00  —| 176,471.00', \n",
    "    '176,471.00  —| 188,235.00', \n",
    "    '188,235.00  —| 200,000.00'\n",
    ")"
   ]
  },
  {
   "cell_type": "code",
   "execution_count": 32,
   "id": "478333b8-c2b7-44ed-b150-8691881c8131",
   "metadata": {},
   "outputs": [],
   "source": [
    "frequency_classes_fixe <- table(\n",
    "    cut(\n",
    "        x=dataset$Income,\n",
    "        breaks=k,\n",
    "        labels=labels_r,\n",
    "        include.lowest=TRUE\n",
    "    )\n",
    ")"
   ]
  },
  {
   "cell_type": "code",
   "execution_count": 33,
   "id": "f0044784-7c7e-4513-837c-8e1191bf46db",
   "metadata": {},
   "outputs": [
    {
     "data": {
      "text/plain": [
       "\n",
       "      0.00 |—|  11,764.70  11,764.70  —|  23,529.40  23,529.40  —|  35,294.10 \n",
       "                    75594                      1022                       169 \n",
       " 35,294.10  —|  47,058.80  47,058.80  —|  58,823.50  58,823.50  —|  70,588.20 \n",
       "                       19                        16                         5 \n",
       " 70,588.20  —|  82,352.90  82,352.90  —|  94,117.60  94,117.60  —| 105,882.00 \n",
       "                        4                         1                         6 \n",
       "105,882.00  —| 117,647.00 117,647.00  —| 129,412.00 129,412.00  —| 141,176.00 \n",
       "                        0                         1                         0 \n",
       "141,176.00  —| 152,941.00 152,941.00  —| 164,706.00 164,706.00  —| 176,471.00 \n",
       "                        0                         0                         0 \n",
       "176,471.00  —| 188,235.00 188,235.00  —| 200,000.00 \n",
       "                        0                         3 "
      ]
     },
     "metadata": {},
     "output_type": "display_data"
    }
   ],
   "source": [
    "frequency_classes_fixe"
   ]
  },
  {
   "cell_type": "markdown",
   "id": "99df17d3-5dc6-4634-9aca-a9eab90fcacb",
   "metadata": {},
   "source": [
    "##### Percent"
   ]
  },
  {
   "cell_type": "code",
   "execution_count": 34,
   "id": "1578dda9-35f5-4d77-a916-95ff363233b2",
   "metadata": {},
   "outputs": [
    {
     "data": {
      "text/plain": [
       "\n",
       "      0.00 |—|  11,764.70  11,764.70  —|  23,529.40  23,529.40  —|  35,294.10 \n",
       "             98.378448725               1.330036439               0.219937533 \n",
       " 35,294.10  —|  47,058.80  47,058.80  —|  58,823.50  58,823.50  —|  70,588.20 \n",
       "              0.024726705               0.020822488               0.006507028 \n",
       " 70,588.20  —|  82,352.90  82,352.90  —|  94,117.60  94,117.60  —| 105,882.00 \n",
       "              0.005205622               0.001301406               0.007808433 \n",
       "105,882.00  —| 117,647.00 117,647.00  —| 129,412.00 129,412.00  —| 141,176.00 \n",
       "              0.000000000               0.001301406               0.000000000 \n",
       "141,176.00  —| 152,941.00 152,941.00  —| 164,706.00 164,706.00  —| 176,471.00 \n",
       "              0.000000000               0.000000000               0.000000000 \n",
       "176,471.00  —| 188,235.00 188,235.00  —| 200,000.00 \n",
       "              0.000000000               0.003904217 "
      ]
     },
     "metadata": {},
     "output_type": "display_data"
    }
   ],
   "source": [
    "frequency_classes_fixe_percent <- prop.table(frequency_classes_fixe)*100\n",
    "frequency_classes_fixe_percent"
   ]
  },
  {
   "cell_type": "code",
   "execution_count": 35,
   "id": "febe3d96-fc46-48db-b019-e3c1a8c0b06f",
   "metadata": {},
   "outputs": [
    {
     "data": {
      "text/html": [
       "<table class=\"dataframe\">\n",
       "<caption>A matrix: 17 × 2 of type dbl</caption>\n",
       "<thead>\n",
       "\t<tr><th></th><th scope=col>Frequency</th><th scope=col>Percent</th></tr>\n",
       "</thead>\n",
       "<tbody>\n",
       "\t<tr><th scope=row>      0.00 |—|  11,764.70</th><td>75594</td><td>98.378448725</td></tr>\n",
       "\t<tr><th scope=row> 11,764.70  —|  23,529.40</th><td> 1022</td><td> 1.330036439</td></tr>\n",
       "\t<tr><th scope=row> 23,529.40  —|  35,294.10</th><td>  169</td><td> 0.219937533</td></tr>\n",
       "\t<tr><th scope=row> 35,294.10  —|  47,058.80</th><td>   19</td><td> 0.024726705</td></tr>\n",
       "\t<tr><th scope=row> 47,058.80  —|  58,823.50</th><td>   16</td><td> 0.020822488</td></tr>\n",
       "\t<tr><th scope=row> 58,823.50  —|  70,588.20</th><td>    5</td><td> 0.006507028</td></tr>\n",
       "\t<tr><th scope=row> 70,588.20  —|  82,352.90</th><td>    4</td><td> 0.005205622</td></tr>\n",
       "\t<tr><th scope=row> 82,352.90  —|  94,117.60</th><td>    1</td><td> 0.001301406</td></tr>\n",
       "\t<tr><th scope=row> 94,117.60  —| 105,882.00</th><td>    6</td><td> 0.007808433</td></tr>\n",
       "\t<tr><th scope=row>105,882.00  —| 117,647.00</th><td>    0</td><td> 0.000000000</td></tr>\n",
       "\t<tr><th scope=row>117,647.00  —| 129,412.00</th><td>    1</td><td> 0.001301406</td></tr>\n",
       "\t<tr><th scope=row>129,412.00  —| 141,176.00</th><td>    0</td><td> 0.000000000</td></tr>\n",
       "\t<tr><th scope=row>141,176.00  —| 152,941.00</th><td>    0</td><td> 0.000000000</td></tr>\n",
       "\t<tr><th scope=row>152,941.00  —| 164,706.00</th><td>    0</td><td> 0.000000000</td></tr>\n",
       "\t<tr><th scope=row>164,706.00  —| 176,471.00</th><td>    0</td><td> 0.000000000</td></tr>\n",
       "\t<tr><th scope=row>176,471.00  —| 188,235.00</th><td>    0</td><td> 0.000000000</td></tr>\n",
       "\t<tr><th scope=row>188,235.00  —| 200,000.00</th><td>    3</td><td> 0.003904217</td></tr>\n",
       "</tbody>\n",
       "</table>\n"
      ],
      "text/latex": [
       "A matrix: 17 × 2 of type dbl\n",
       "\\begin{tabular}{r|ll}\n",
       "  & Frequency & Percent\\\\\n",
       "\\hline\n",
       "\t      0.00 \\textbar{}—\\textbar{}  11,764.70 & 75594 & 98.378448725\\\\\n",
       "\t 11,764.70  —\\textbar{}  23,529.40 &  1022 &  1.330036439\\\\\n",
       "\t 23,529.40  —\\textbar{}  35,294.10 &   169 &  0.219937533\\\\\n",
       "\t 35,294.10  —\\textbar{}  47,058.80 &    19 &  0.024726705\\\\\n",
       "\t 47,058.80  —\\textbar{}  58,823.50 &    16 &  0.020822488\\\\\n",
       "\t 58,823.50  —\\textbar{}  70,588.20 &     5 &  0.006507028\\\\\n",
       "\t 70,588.20  —\\textbar{}  82,352.90 &     4 &  0.005205622\\\\\n",
       "\t 82,352.90  —\\textbar{}  94,117.60 &     1 &  0.001301406\\\\\n",
       "\t 94,117.60  —\\textbar{} 105,882.00 &     6 &  0.007808433\\\\\n",
       "\t105,882.00  —\\textbar{} 117,647.00 &     0 &  0.000000000\\\\\n",
       "\t117,647.00  —\\textbar{} 129,412.00 &     1 &  0.001301406\\\\\n",
       "\t129,412.00  —\\textbar{} 141,176.00 &     0 &  0.000000000\\\\\n",
       "\t141,176.00  —\\textbar{} 152,941.00 &     0 &  0.000000000\\\\\n",
       "\t152,941.00  —\\textbar{} 164,706.00 &     0 &  0.000000000\\\\\n",
       "\t164,706.00  —\\textbar{} 176,471.00 &     0 &  0.000000000\\\\\n",
       "\t176,471.00  —\\textbar{} 188,235.00 &     0 &  0.000000000\\\\\n",
       "\t188,235.00  —\\textbar{} 200,000.00 &     3 &  0.003904217\\\\\n",
       "\\end{tabular}\n"
      ],
      "text/markdown": [
       "\n",
       "A matrix: 17 × 2 of type dbl\n",
       "\n",
       "| <!--/--> | Frequency | Percent |\n",
       "|---|---|---|\n",
       "|       0.00 |—|  11,764.70 | 75594 | 98.378448725 |\n",
       "|  11,764.70  —|  23,529.40 |  1022 |  1.330036439 |\n",
       "|  23,529.40  —|  35,294.10 |   169 |  0.219937533 |\n",
       "|  35,294.10  —|  47,058.80 |    19 |  0.024726705 |\n",
       "|  47,058.80  —|  58,823.50 |    16 |  0.020822488 |\n",
       "|  58,823.50  —|  70,588.20 |     5 |  0.006507028 |\n",
       "|  70,588.20  —|  82,352.90 |     4 |  0.005205622 |\n",
       "|  82,352.90  —|  94,117.60 |     1 |  0.001301406 |\n",
       "|  94,117.60  —| 105,882.00 |     6 |  0.007808433 |\n",
       "| 105,882.00  —| 117,647.00 |     0 |  0.000000000 |\n",
       "| 117,647.00  —| 129,412.00 |     1 |  0.001301406 |\n",
       "| 129,412.00  —| 141,176.00 |     0 |  0.000000000 |\n",
       "| 141,176.00  —| 152,941.00 |     0 |  0.000000000 |\n",
       "| 152,941.00  —| 164,706.00 |     0 |  0.000000000 |\n",
       "| 164,706.00  —| 176,471.00 |     0 |  0.000000000 |\n",
       "| 176,471.00  —| 188,235.00 |     0 |  0.000000000 |\n",
       "| 188,235.00  —| 200,000.00 |     3 |  0.003904217 |\n",
       "\n"
      ],
      "text/plain": [
       "                          Frequency Percent     \n",
       "      0.00 |—|  11,764.70 75594     98.378448725\n",
       " 11,764.70  —|  23,529.40  1022      1.330036439\n",
       " 23,529.40  —|  35,294.10   169      0.219937533\n",
       " 35,294.10  —|  47,058.80    19      0.024726705\n",
       " 47,058.80  —|  58,823.50    16      0.020822488\n",
       " 58,823.50  —|  70,588.20     5      0.006507028\n",
       " 70,588.20  —|  82,352.90     4      0.005205622\n",
       " 82,352.90  —|  94,117.60     1      0.001301406\n",
       " 94,117.60  —| 105,882.00     6      0.007808433\n",
       "105,882.00  —| 117,647.00     0      0.000000000\n",
       "117,647.00  —| 129,412.00     1      0.001301406\n",
       "129,412.00  —| 141,176.00     0      0.000000000\n",
       "141,176.00  —| 152,941.00     0      0.000000000\n",
       "152,941.00  —| 164,706.00     0      0.000000000\n",
       "164,706.00  —| 176,471.00     0      0.000000000\n",
       "176,471.00  —| 188,235.00     0      0.000000000\n",
       "188,235.00  —| 200,000.00     3      0.003904217"
      ]
     },
     "metadata": {},
     "output_type": "display_data"
    }
   ],
   "source": [
    "table_class_fixe <- cbind('Frequency'=frequency_classes_fixe, 'Percent'=frequency_classes_fixe_percent)\n",
    "table_class_fixe"
   ]
  },
  {
   "cell_type": "markdown",
   "id": "81dba59d-3414-4d41-89c1-ac431b66d597",
   "metadata": {},
   "source": [
    " "
   ]
  },
  {
   "cell_type": "markdown",
   "id": "2fe372ef-b43a-41c5-8ee5-08ef35ebeac8",
   "metadata": {},
   "source": [
    " "
   ]
  },
  {
   "cell_type": "markdown",
   "id": "264781ef-eef1-4686-88ad-76293be9dfb9",
   "metadata": {},
   "source": [
    "### Analyzing Income and defining classes"
   ]
  },
  {
   "cell_type": "markdown",
   "id": "67e0aaaa-cf04-457c-984a-0abbd9daeca0",
   "metadata": {},
   "source": [
    "Income Classes:\n",
    "\n",
    "<b>A</b> ► Above 25 Minimum Salaries\n",
    "\n",
    "<b>B</b> ► From 15 to 25 Minimum Salaries\n",
    "\n",
    "<b>C</b> ► From 5 to 15 Minimum Salaries\n",
    "\n",
    "<b>D</b> ► From 2 to 5 Minimum Salaries\n",
    "\n",
    "<b>E</b> ► Up to 2 Minimum Salaries\n",
    "\n",
    "considering that the minimum wage at the time (2015) of the research was <b>R$ 788,00</b>."
   ]
  },
  {
   "cell_type": "code",
   "execution_count": 36,
   "id": "c05f179a-ddd9-4d37-bd30-b62d5788b81b",
   "metadata": {},
   "outputs": [],
   "source": [
    "classes <- c(\n",
    "    min(dataset$Income),\n",
    "    2*788,\n",
    "    5*788,\n",
    "    15*788, \n",
    "    25*788,\n",
    "    max(dataset$Income)\n",
    ")"
   ]
  },
  {
   "cell_type": "code",
   "execution_count": 37,
   "id": "4d2ab6c9-df14-4e1e-98b6-890cdeb8476e",
   "metadata": {},
   "outputs": [
    {
     "data": {
      "text/html": [
       "<style>\n",
       ".list-inline {list-style: none; margin:0; padding: 0}\n",
       ".list-inline>li {display: inline-block}\n",
       ".list-inline>li:not(:last-child)::after {content: \"\\00b7\"; padding: 0 .5ex}\n",
       "</style>\n",
       "<ol class=list-inline><li>0</li><li>1576</li><li>3940</li><li>11820</li><li>19700</li><li>2e+05</li></ol>\n"
      ],
      "text/latex": [
       "\\begin{enumerate*}\n",
       "\\item 0\n",
       "\\item 1576\n",
       "\\item 3940\n",
       "\\item 11820\n",
       "\\item 19700\n",
       "\\item 2e+05\n",
       "\\end{enumerate*}\n"
      ],
      "text/markdown": [
       "1. 0\n",
       "2. 1576\n",
       "3. 3940\n",
       "4. 11820\n",
       "5. 19700\n",
       "6. 2e+05\n",
       "\n",
       "\n"
      ],
      "text/plain": [
       "[1]      0   1576   3940  11820  19700 200000"
      ]
     },
     "metadata": {},
     "output_type": "display_data"
    }
   ],
   "source": [
    "classes"
   ]
  },
  {
   "cell_type": "code",
   "execution_count": 38,
   "id": "cfcf8f8a-da66-4aa6-95bf-09f18ef5bef4",
   "metadata": {},
   "outputs": [],
   "source": [
    "labels_classes <- c('E', 'D', 'C', 'B', 'A')"
   ]
  },
  {
   "cell_type": "markdown",
   "id": "14946b77-fa50-46c0-9ca0-1cc123ffb622",
   "metadata": {},
   "source": [
    "##### Creating frequency table based on income classes"
   ]
  },
  {
   "cell_type": "code",
   "execution_count": 39,
   "id": "944295a4-618b-4bd6-bdf0-11130e9d7de0",
   "metadata": {},
   "outputs": [],
   "source": [
    "frequency_classes <- table(\n",
    "    cut(\n",
    "        x=dataset$Income,\n",
    "        breaks=classes,\n",
    "        labels=labels_classes,\n",
    "        include.lowest=TRUE\n",
    "    )\n",
    ")"
   ]
  },
  {
   "cell_type": "code",
   "execution_count": 40,
   "id": "8729831b-7139-4fca-ba5c-e94b57212b6d",
   "metadata": {},
   "outputs": [
    {
     "data": {
      "text/plain": [
       "\n",
       "    E     D     C     B     A \n",
       "49755 18602  7241   822   420 "
      ]
     },
     "metadata": {},
     "output_type": "display_data"
    }
   ],
   "source": [
    "frequency_classes"
   ]
  },
  {
   "cell_type": "markdown",
   "id": "8e367aff-a87d-4246-b644-17d2092755e3",
   "metadata": {},
   "source": [
    "##### Percente Table"
   ]
  },
  {
   "cell_type": "code",
   "execution_count": 41,
   "id": "dfafdce5-971e-446b-9368-b8be1fd51716",
   "metadata": {},
   "outputs": [],
   "source": [
    "frequency_classes_percent <- prop.table(frequency_classes)*100"
   ]
  },
  {
   "cell_type": "code",
   "execution_count": 42,
   "id": "07352e31-36b1-467d-a02d-579127913005",
   "metadata": {},
   "outputs": [
    {
     "data": {
      "text/plain": [
       "\n",
       "         E          D          C          B          A \n",
       "64.7514315 24.2087454  9.4234774  1.0697553  0.5465903 "
      ]
     },
     "metadata": {},
     "output_type": "display_data"
    }
   ],
   "source": [
    "frequency_classes_percent"
   ]
  },
  {
   "cell_type": "code",
   "execution_count": 43,
   "id": "201ecc6d-9e27-4e38-893a-13efb0c7b1c4",
   "metadata": {},
   "outputs": [],
   "source": [
    "table_classes <- cbind('Frequency'= frequency_classes, 'Percent'=frequency_classes_percent)"
   ]
  },
  {
   "cell_type": "code",
   "execution_count": 44,
   "id": "bf68d5a0-8922-4034-a0bc-0d9966ffc609",
   "metadata": {},
   "outputs": [
    {
     "data": {
      "text/html": [
       "<table class=\"dataframe\">\n",
       "<caption>A matrix: 5 × 2 of type dbl</caption>\n",
       "<thead>\n",
       "\t<tr><th></th><th scope=col>Frequency</th><th scope=col>Percent</th></tr>\n",
       "</thead>\n",
       "<tbody>\n",
       "\t<tr><th scope=row>E</th><td>49755</td><td>64.7514315</td></tr>\n",
       "\t<tr><th scope=row>D</th><td>18602</td><td>24.2087454</td></tr>\n",
       "\t<tr><th scope=row>C</th><td> 7241</td><td> 9.4234774</td></tr>\n",
       "\t<tr><th scope=row>B</th><td>  822</td><td> 1.0697553</td></tr>\n",
       "\t<tr><th scope=row>A</th><td>  420</td><td> 0.5465903</td></tr>\n",
       "</tbody>\n",
       "</table>\n"
      ],
      "text/latex": [
       "A matrix: 5 × 2 of type dbl\n",
       "\\begin{tabular}{r|ll}\n",
       "  & Frequency & Percent\\\\\n",
       "\\hline\n",
       "\tE & 49755 & 64.7514315\\\\\n",
       "\tD & 18602 & 24.2087454\\\\\n",
       "\tC &  7241 &  9.4234774\\\\\n",
       "\tB &   822 &  1.0697553\\\\\n",
       "\tA &   420 &  0.5465903\\\\\n",
       "\\end{tabular}\n"
      ],
      "text/markdown": [
       "\n",
       "A matrix: 5 × 2 of type dbl\n",
       "\n",
       "| <!--/--> | Frequency | Percent |\n",
       "|---|---|---|\n",
       "| E | 49755 | 64.7514315 |\n",
       "| D | 18602 | 24.2087454 |\n",
       "| C |  7241 |  9.4234774 |\n",
       "| B |   822 |  1.0697553 |\n",
       "| A |   420 |  0.5465903 |\n",
       "\n"
      ],
      "text/plain": [
       "  Frequency Percent   \n",
       "E 49755     64.7514315\n",
       "D 18602     24.2087454\n",
       "C  7241      9.4234774\n",
       "B   822      1.0697553\n",
       "A   420      0.5465903"
      ]
     },
     "metadata": {},
     "output_type": "display_data"
    }
   ],
   "source": [
    "table_classes"
   ]
  },
  {
   "cell_type": "code",
   "execution_count": 45,
   "id": "4b856f06-c4a0-4f9c-9ad6-33f90c925d36",
   "metadata": {},
   "outputs": [
    {
     "data": {
      "text/html": [
       "<table class=\"dataframe\">\n",
       "<caption>A matrix: 5 × 2 of type dbl</caption>\n",
       "<thead>\n",
       "\t<tr><th></th><th scope=col>Frequency</th><th scope=col>Percent</th></tr>\n",
       "</thead>\n",
       "<tbody>\n",
       "\t<tr><th scope=row>A</th><td>  420</td><td> 0.5465903</td></tr>\n",
       "\t<tr><th scope=row>B</th><td>  822</td><td> 1.0697553</td></tr>\n",
       "\t<tr><th scope=row>C</th><td> 7241</td><td> 9.4234774</td></tr>\n",
       "\t<tr><th scope=row>D</th><td>18602</td><td>24.2087454</td></tr>\n",
       "\t<tr><th scope=row>E</th><td>49755</td><td>64.7514315</td></tr>\n",
       "</tbody>\n",
       "</table>\n"
      ],
      "text/latex": [
       "A matrix: 5 × 2 of type dbl\n",
       "\\begin{tabular}{r|ll}\n",
       "  & Frequency & Percent\\\\\n",
       "\\hline\n",
       "\tA &   420 &  0.5465903\\\\\n",
       "\tB &   822 &  1.0697553\\\\\n",
       "\tC &  7241 &  9.4234774\\\\\n",
       "\tD & 18602 & 24.2087454\\\\\n",
       "\tE & 49755 & 64.7514315\\\\\n",
       "\\end{tabular}\n"
      ],
      "text/markdown": [
       "\n",
       "A matrix: 5 × 2 of type dbl\n",
       "\n",
       "| <!--/--> | Frequency | Percent |\n",
       "|---|---|---|\n",
       "| A |   420 |  0.5465903 |\n",
       "| B |   822 |  1.0697553 |\n",
       "| C |  7241 |  9.4234774 |\n",
       "| D | 18602 | 24.2087454 |\n",
       "| E | 49755 | 64.7514315 |\n",
       "\n"
      ],
      "text/plain": [
       "  Frequency Percent   \n",
       "A   420      0.5465903\n",
       "B   822      1.0697553\n",
       "C  7241      9.4234774\n",
       "D 18602     24.2087454\n",
       "E 49755     64.7514315"
      ]
     },
     "metadata": {},
     "output_type": "display_data"
    }
   ],
   "source": [
    "table_classes[order(rownames(table_classes)),]"
   ]
  },
  {
   "cell_type": "markdown",
   "id": "23a14402-33af-40dd-8ff8-3603e0ae6289",
   "metadata": {},
   "source": [
    " "
   ]
  },
  {
   "cell_type": "markdown",
   "id": "fb48f7c2-1fd7-4eb5-9b04-c7211aed6a92",
   "metadata": {},
   "source": [
    " "
   ]
  },
  {
   "cell_type": "markdown",
   "id": "b30743b0-fee2-4c9d-ba41-aa11d4dbd611",
   "metadata": {},
   "source": [
    "### Viewing table data"
   ]
  },
  {
   "cell_type": "markdown",
   "id": "9ead480e-19a3-4581-8914-f414bc57d1f1",
   "metadata": {},
   "source": [
    "#### Defining graphics settings"
   ]
  },
  {
   "cell_type": "code",
   "execution_count": 46,
   "id": "7b6ba9ad-2187-4cbf-8e18-dfe2f1995d38",
   "metadata": {},
   "outputs": [],
   "source": [
    "options(repr.plot.width=12, repr.plot.height=8)"
   ]
  },
  {
   "cell_type": "code",
   "execution_count": 47,
   "id": "528c576a-a12c-446a-9545-85f653453458",
   "metadata": {},
   "outputs": [],
   "source": [
    "config_figure <- theme(\n",
    "    plot.title=element_text(size=14, hjust=0.5),\n",
    "    axis.title.y=element_text(size=15, vjust= +0.2),\n",
    "    axis.title.x=element_text(size=15, vjust= -0.2),\n",
    "    axis.text.y=element_text(size=15),\n",
    "    axis.text.x=element_text(size=15)\n",
    ")"
   ]
  },
  {
   "cell_type": "code",
   "execution_count": 48,
   "id": "ae5a3f7a-1b8d-4efe-ab0a-279a8fca8986",
   "metadata": {},
   "outputs": [],
   "source": [
    "df_table_classes <- data.frame(table_classes)"
   ]
  },
  {
   "cell_type": "code",
   "execution_count": 49,
   "id": "f92b7936-f9be-44d1-a70c-638ce6066bdc",
   "metadata": {},
   "outputs": [
    {
     "data": {
      "text/html": [
       "<table class=\"dataframe\">\n",
       "<caption>A data.frame: 5 × 2</caption>\n",
       "<thead>\n",
       "\t<tr><th></th><th scope=col>Frequency</th><th scope=col>Percent</th></tr>\n",
       "\t<tr><th></th><th scope=col>&lt;dbl&gt;</th><th scope=col>&lt;dbl&gt;</th></tr>\n",
       "</thead>\n",
       "<tbody>\n",
       "\t<tr><th scope=row>E</th><td>49755</td><td>64.7514315</td></tr>\n",
       "\t<tr><th scope=row>D</th><td>18602</td><td>24.2087454</td></tr>\n",
       "\t<tr><th scope=row>C</th><td> 7241</td><td> 9.4234774</td></tr>\n",
       "\t<tr><th scope=row>B</th><td>  822</td><td> 1.0697553</td></tr>\n",
       "\t<tr><th scope=row>A</th><td>  420</td><td> 0.5465903</td></tr>\n",
       "</tbody>\n",
       "</table>\n"
      ],
      "text/latex": [
       "A data.frame: 5 × 2\n",
       "\\begin{tabular}{r|ll}\n",
       "  & Frequency & Percent\\\\\n",
       "  & <dbl> & <dbl>\\\\\n",
       "\\hline\n",
       "\tE & 49755 & 64.7514315\\\\\n",
       "\tD & 18602 & 24.2087454\\\\\n",
       "\tC &  7241 &  9.4234774\\\\\n",
       "\tB &   822 &  1.0697553\\\\\n",
       "\tA &   420 &  0.5465903\\\\\n",
       "\\end{tabular}\n"
      ],
      "text/markdown": [
       "\n",
       "A data.frame: 5 × 2\n",
       "\n",
       "| <!--/--> | Frequency &lt;dbl&gt; | Percent &lt;dbl&gt; |\n",
       "|---|---|---|\n",
       "| E | 49755 | 64.7514315 |\n",
       "| D | 18602 | 24.2087454 |\n",
       "| C |  7241 |  9.4234774 |\n",
       "| B |   822 |  1.0697553 |\n",
       "| A |   420 |  0.5465903 |\n",
       "\n"
      ],
      "text/plain": [
       "  Frequency Percent   \n",
       "E 49755     64.7514315\n",
       "D 18602     24.2087454\n",
       "C  7241      9.4234774\n",
       "B   822      1.0697553\n",
       "A   420      0.5465903"
      ]
     },
     "metadata": {},
     "output_type": "display_data"
    }
   ],
   "source": [
    "df_table_classes"
   ]
  },
  {
   "cell_type": "code",
   "execution_count": 50,
   "id": "9c905b48-1d7a-4814-81d3-46d215630ba7",
   "metadata": {},
   "outputs": [
    {
     "data": {
      "image/png": "[encoded data removed]",
      "text/plain": [
       "plot without title"
      ]
     },
     "metadata": {
      "image/png": {
       "height": 480,
       "width": 720
      }
     },
     "output_type": "display_data"
    }
   ],
   "source": [
    "ggplot(data=df_table_classes, aes(x=row.names(df_table_classes), y=(df_table_classes$Frequency)))+\n",
    "    geom_bar(stat='identity')+\n",
    "    ylab('Frequency')+\n",
    "    xlab('Income Classes')+\n",
    "    ggtitle('Graphic Income Classes')+\n",
    "    config_figure"
   ]
  },
  {
   "cell_type": "markdown",
   "id": "e0702185-6991-49c9-a97d-429cd91c8834",
   "metadata": {},
   "source": [
    "#### There is a much greater distribution in class E, we have many more people who earn 2 minimum wages or less, while a much smaller number who earn above that. Indicating that many people earn little and few people earn a lot."
   ]
  },
  {
   "cell_type": "markdown",
   "id": "ab156442-0918-46bd-8622-ccece0c59ab3",
   "metadata": {},
   "source": [
    "  "
   ]
  },
  {
   "cell_type": "markdown",
   "id": "26053669-e5c1-4e89-a835-e28e58a77925",
   "metadata": {},
   "source": [
    "  "
   ]
  },
  {
   "cell_type": "markdown",
   "id": "57826c72-dec3-4608-a0df-2f92a4a50f0e",
   "metadata": {},
   "source": [
    "### Analyzing age, height and income"
   ]
  },
  {
   "cell_type": "code",
   "execution_count": 51,
   "id": "277f88d3-9a0c-4431-90a9-149c87feb25e",
   "metadata": {},
   "outputs": [
    {
     "data": {
      "text/html": [
       "<table class=\"dataframe\">\n",
       "<caption>A data.frame: 6 × 7</caption>\n",
       "<thead>\n",
       "\t<tr><th></th><th scope=col>UF</th><th scope=col>Sex</th><th scope=col>Age</th><th scope=col>Color</th><th scope=col>Years.of.Studies</th><th scope=col>Income</th><th scope=col>Height</th></tr>\n",
       "\t<tr><th></th><th scope=col>&lt;int&gt;</th><th scope=col>&lt;int&gt;</th><th scope=col>&lt;int&gt;</th><th scope=col>&lt;int&gt;</th><th scope=col>&lt;int&gt;</th><th scope=col>&lt;int&gt;</th><th scope=col>&lt;dbl&gt;</th></tr>\n",
       "</thead>\n",
       "<tbody>\n",
       "\t<tr><th scope=row>1</th><td>11</td><td>0</td><td>23</td><td>8</td><td>12</td><td> 800</td><td>1.603808</td></tr>\n",
       "\t<tr><th scope=row>2</th><td>11</td><td>1</td><td>23</td><td>2</td><td>12</td><td>1150</td><td>1.739790</td></tr>\n",
       "\t<tr><th scope=row>3</th><td>11</td><td>1</td><td>35</td><td>8</td><td>15</td><td> 880</td><td>1.760444</td></tr>\n",
       "\t<tr><th scope=row>4</th><td>11</td><td>0</td><td>46</td><td>2</td><td> 6</td><td>3500</td><td>1.783158</td></tr>\n",
       "\t<tr><th scope=row>5</th><td>11</td><td>1</td><td>47</td><td>8</td><td> 9</td><td> 150</td><td>1.690631</td></tr>\n",
       "\t<tr><th scope=row>6</th><td>11</td><td>1</td><td>34</td><td>8</td><td>12</td><td> 790</td><td>1.637906</td></tr>\n",
       "</tbody>\n",
       "</table>\n"
      ],
      "text/latex": [
       "A data.frame: 6 × 7\n",
       "\\begin{tabular}{r|lllllll}\n",
       "  & UF & Sex & Age & Color & Years.of.Studies & Income & Height\\\\\n",
       "  & <int> & <int> & <int> & <int> & <int> & <int> & <dbl>\\\\\n",
       "\\hline\n",
       "\t1 & 11 & 0 & 23 & 8 & 12 &  800 & 1.603808\\\\\n",
       "\t2 & 11 & 1 & 23 & 2 & 12 & 1150 & 1.739790\\\\\n",
       "\t3 & 11 & 1 & 35 & 8 & 15 &  880 & 1.760444\\\\\n",
       "\t4 & 11 & 0 & 46 & 2 &  6 & 3500 & 1.783158\\\\\n",
       "\t5 & 11 & 1 & 47 & 8 &  9 &  150 & 1.690631\\\\\n",
       "\t6 & 11 & 1 & 34 & 8 & 12 &  790 & 1.637906\\\\\n",
       "\\end{tabular}\n"
      ],
      "text/markdown": [
       "\n",
       "A data.frame: 6 × 7\n",
       "\n",
       "| <!--/--> | UF &lt;int&gt; | Sex &lt;int&gt; | Age &lt;int&gt; | Color &lt;int&gt; | Years.of.Studies &lt;int&gt; | Income &lt;int&gt; | Height &lt;dbl&gt; |\n",
       "|---|---|---|---|---|---|---|---|\n",
       "| 1 | 11 | 0 | 23 | 8 | 12 |  800 | 1.603808 |\n",
       "| 2 | 11 | 1 | 23 | 2 | 12 | 1150 | 1.739790 |\n",
       "| 3 | 11 | 1 | 35 | 8 | 15 |  880 | 1.760444 |\n",
       "| 4 | 11 | 0 | 46 | 2 |  6 | 3500 | 1.783158 |\n",
       "| 5 | 11 | 1 | 47 | 8 |  9 |  150 | 1.690631 |\n",
       "| 6 | 11 | 1 | 34 | 8 | 12 |  790 | 1.637906 |\n",
       "\n"
      ],
      "text/plain": [
       "  UF Sex Age Color Years.of.Studies Income Height  \n",
       "1 11 0   23  8     12                800   1.603808\n",
       "2 11 1   23  2     12               1150   1.739790\n",
       "3 11 1   35  8     15                880   1.760444\n",
       "4 11 0   46  2      6               3500   1.783158\n",
       "5 11 1   47  8      9                150   1.690631\n",
       "6 11 1   34  8     12                790   1.637906"
      ]
     },
     "metadata": {},
     "output_type": "display_data"
    }
   ],
   "source": [
    "head(dataset)"
   ]
  },
  {
   "cell_type": "markdown",
   "id": "fd1471dc-ba6e-4b98-a097-10fa5c66781b",
   "metadata": {},
   "source": [
    "### Age"
   ]
  },
  {
   "cell_type": "code",
   "execution_count": 52,
   "id": "e9e0e493-9ce4-41a3-ae9c-070296b58980",
   "metadata": {},
   "outputs": [
    {
     "data": {
      "text/html": [
       "'From: 13, To: 99 years'"
      ],
      "text/latex": [
       "'From: 13, To: 99 years'"
      ],
      "text/markdown": [
       "'From: 13, To: 99 years'"
      ],
      "text/plain": [
       "From: 13, To: 99 years"
      ]
     },
     "metadata": {},
     "output_type": "display_data"
    }
   ],
   "source": [
    "glue('From: {min(dataset$Age)}, To: {max(dataset$Age)} years')"
   ]
  },
  {
   "cell_type": "code",
   "execution_count": 53,
   "id": "eb08f81e-6e04-48fe-acb4-6139ddf4cce7",
   "metadata": {},
   "outputs": [
    {
     "data": {
      "image/png": "[encoded data removed]",
      "text/plain": [
       "plot without title"
      ]
     },
     "metadata": {
      "image/png": {
       "height": 480,
       "width": 720
      }
     },
     "output_type": "display_data"
    }
   ],
   "source": [
    "ggplot(data=dataset, aes(x=Age, y=after_stat(density)))+\n",
    "    geom_histogram(bins=50, color='black', alpha=0.9)+\n",
    "    geom_density(color='green')+\n",
    "    ylab('Frequency')+\n",
    "    xlab('Age')+\n",
    "    ggtitle('Age Histogram')+\n",
    "    config_figure"
   ]
  },
  {
   "cell_type": "markdown",
   "id": "cc0ea74a-24b3-4f5d-8af7-79d9d8654566",
   "metadata": {},
   "source": [
    " "
   ]
  },
  {
   "cell_type": "markdown",
   "id": "536985ff-62be-4414-8013-981775f8cad1",
   "metadata": {},
   "source": [
    " "
   ]
  },
  {
   "cell_type": "markdown",
   "id": "89b8b853-5faa-4338-9284-e292eb5587b9",
   "metadata": {},
   "source": [
    "# Height"
   ]
  },
  {
   "cell_type": "code",
   "execution_count": 54,
   "id": "1d11d713-8709-4df4-9cca-34cf7430a253",
   "metadata": {},
   "outputs": [
    {
     "data": {
      "text/html": [
       "<span style=white-space:pre-wrap>'From: 1.339244614,  To: 2.028496765 meters'</span>"
      ],
      "text/latex": [
       "'From: 1.339244614,  To: 2.028496765 meters'"
      ],
      "text/markdown": [
       "<span style=white-space:pre-wrap>'From: 1.339244614,  To: 2.028496765 meters'</span>"
      ],
      "text/plain": [
       "From: 1.339244614,  To: 2.028496765 meters"
      ]
     },
     "metadata": {},
     "output_type": "display_data"
    }
   ],
   "source": [
    "glue('From: {min(dataset$Height)},  To: {max(dataset$Height)} meters')"
   ]
  },
  {
   "cell_type": "code",
   "execution_count": 55,
   "id": "aa5cc734-7012-4a75-bb41-9a69dd51f1c0",
   "metadata": {},
   "outputs": [
    {
     "data": {
      "image/png": "[encoded data removed]",
      "text/plain": [
       "plot without title"
      ]
     },
     "metadata": {
      "image/png": {
       "height": 480,
       "width": 720
      }
     },
     "output_type": "display_data"
    }
   ],
   "source": [
    "ggplot(data=dataset, aes(x=Height, y=after_stat(density)))+\n",
    "    geom_histogram(bins=30, color='black', alpha=0.9)+\n",
    "    geom_density(color='green')+\n",
    "    ylab('Frequency')+\n",
    "    xlab('Height')+\n",
    "    ggtitle('Height Histogram')+\n",
    "    config_figure"
   ]
  },
  {
   "cell_type": "markdown",
   "id": "6b179c87-52a4-4306-b170-bfeff2569d6e",
   "metadata": {},
   "source": [
    " "
   ]
  },
  {
   "cell_type": "markdown",
   "id": "300a37a6-3496-4482-8824-6248eeac3cd3",
   "metadata": {},
   "source": [
    " "
   ]
  },
  {
   "cell_type": "markdown",
   "id": "b20e97df-9b33-46cd-8eb3-98e6e1de1721",
   "metadata": {},
   "source": [
    "### Income"
   ]
  },
  {
   "cell_type": "code",
   "execution_count": 56,
   "id": "a0cffbd9-0a95-485e-b16f-bea19fcdb9fa",
   "metadata": {},
   "outputs": [
    {
     "data": {
      "text/html": [
       "'From: 0, To: 200000 income in R$'"
      ],
      "text/latex": [
       "'From: 0, To: 200000 income in R\\$'"
      ],
      "text/markdown": [
       "'From: 0, To: 200000 income in R$'"
      ],
      "text/plain": [
       "From: 0, To: 200000 income in R$"
      ]
     },
     "metadata": {},
     "output_type": "display_data"
    }
   ],
   "source": [
    "glue('From: {min(dataset$Income)}, To: {max(dataset$Income)} income in R$')"
   ]
  },
  {
   "cell_type": "code",
   "execution_count": 57,
   "id": "43cb52d4-4668-4d98-8cd3-f356d5438ef7",
   "metadata": {
    "scrolled": true
   },
   "outputs": [
    {
     "data": {
      "image/png": "[encoded data removed]",
      "text/plain": [
       "plot without title"
      ]
     },
     "metadata": {
      "image/png": {
       "height": 480,
       "width": 720
      }
     },
     "output_type": "display_data"
    }
   ],
   "source": [
    "ggplot(data=dataset, aes(x=Income))+\n",
    "    geom_histogram(bins=100, color='black', alpha=0.9)+\n",
    "    #geom_density(color='green')+\n",
    "    ylab('Frequency')+\n",
    "    xlab('Income')+\n",
    "    ggtitle('Income Histogram')+\n",
    "    config_figure"
   ]
  },
  {
   "cell_type": "code",
   "execution_count": 58,
   "id": "ccab169a-7bfe-4a27-8e68-efab0f2fa0d1",
   "metadata": {},
   "outputs": [
    {
     "data": {
      "image/png": "[encoded data removed]",
      "text/plain": [
       "plot without title"
      ]
     },
     "metadata": {
      "image/png": {
       "height": 480,
       "width": 720
      }
     },
     "output_type": "display_data"
    }
   ],
   "source": [
    "ggplot(data=dataset[dataset$Income<=20000,], aes(x=Income,y=after_stat(density)))+\n",
    "    geom_histogram(bins=100, color='black', alpha=0.9)+\n",
    "    geom_density(color='green')+\n",
    "    ylab('Frequency')+\n",
    "    xlab('Income')+\n",
    "    ggtitle('Income >= 20.000 Histogram ')+\n",
    "    config_figure"
   ]
  },
  {
   "cell_type": "markdown",
   "id": "8e42bfbd-00d8-49ff-8b91-68276265a182",
   "metadata": {},
   "source": [
    "#### It is concluded that the age and height variables are somewhat well distributed, whereas the income variable is not in this way."
   ]
  },
  {
   "cell_type": "markdown",
   "id": "663a11f2-3488-4660-97aa-ca279aa5554c",
   "metadata": {},
   "source": [
    " "
   ]
  },
  {
   "cell_type": "markdown",
   "id": "2f4947cd-a7d6-4c4b-8132-2918829a649f",
   "metadata": {},
   "source": [
    " "
   ]
  },
  {
   "cell_type": "markdown",
   "id": "e1500147-593a-4b96-a1d6-6c7b94cd7dae",
   "metadata": {},
   "source": [
    "### Building a frequency table and one with the crossing percentages of the SEX and COLOR variables"
   ]
  },
  {
   "cell_type": "markdown",
   "id": "af6818e7-e0b7-4008-a7d1-1723b9bed4a5",
   "metadata": {},
   "source": [
    "#### Categorizing data"
   ]
  },
  {
   "cell_type": "code",
   "execution_count": 59,
   "id": "2c7a1feb-fef6-4b19-b72b-aaf8575333fd",
   "metadata": {},
   "outputs": [],
   "source": [
    "sex <- c(\n",
    "     'Masculine',\n",
    "     'Feminine'\n",
    ")\n",
    "color <- c(\n",
    "     'Indigenous',\n",
    "     'White',\n",
    "     'Black',\n",
    "     'Yellow',\n",
    "     'Brown'\n",
    ")\n",
    "years_of_study <- c(\n",
    "     'No education and less than 1 year',\n",
    "     '1 year',\n",
    "     '2 years',\n",
    "     '3 years',\n",
    "     '4 years',\n",
    "     '5 years',\n",
    "     '6 years',\n",
    "     '7 years',\n",
    "     '8 years',\n",
    "     '9 years',\n",
    "     '10 years',\n",
    "     '11 years',\n",
    "     '12 years',\n",
    "     '13 years',\n",
    "     '14 years',\n",
    "     '15 years or more',\n",
    "     'Not determined'\n",
    ")"
   ]
  },
  {
   "cell_type": "code",
   "execution_count": 60,
   "id": "b8a9b543-c999-43b9-8b09-4c8dc19cc98b",
   "metadata": {
    "scrolled": true
   },
   "outputs": [
    {
     "data": {
      "text/html": [
       "<table class=\"dataframe\">\n",
       "<caption>A data.frame: 6 × 7</caption>\n",
       "<thead>\n",
       "\t<tr><th></th><th scope=col>UF</th><th scope=col>Sex</th><th scope=col>Age</th><th scope=col>Color</th><th scope=col>Years.of.Studies</th><th scope=col>Income</th><th scope=col>Height</th></tr>\n",
       "\t<tr><th></th><th scope=col>&lt;int&gt;</th><th scope=col>&lt;int&gt;</th><th scope=col>&lt;int&gt;</th><th scope=col>&lt;int&gt;</th><th scope=col>&lt;int&gt;</th><th scope=col>&lt;int&gt;</th><th scope=col>&lt;dbl&gt;</th></tr>\n",
       "</thead>\n",
       "<tbody>\n",
       "\t<tr><th scope=row>1</th><td>11</td><td>0</td><td>23</td><td>8</td><td>12</td><td> 800</td><td>1.603808</td></tr>\n",
       "\t<tr><th scope=row>2</th><td>11</td><td>1</td><td>23</td><td>2</td><td>12</td><td>1150</td><td>1.739790</td></tr>\n",
       "\t<tr><th scope=row>3</th><td>11</td><td>1</td><td>35</td><td>8</td><td>15</td><td> 880</td><td>1.760444</td></tr>\n",
       "\t<tr><th scope=row>4</th><td>11</td><td>0</td><td>46</td><td>2</td><td> 6</td><td>3500</td><td>1.783158</td></tr>\n",
       "\t<tr><th scope=row>5</th><td>11</td><td>1</td><td>47</td><td>8</td><td> 9</td><td> 150</td><td>1.690631</td></tr>\n",
       "\t<tr><th scope=row>6</th><td>11</td><td>1</td><td>34</td><td>8</td><td>12</td><td> 790</td><td>1.637906</td></tr>\n",
       "</tbody>\n",
       "</table>\n"
      ],
      "text/latex": [
       "A data.frame: 6 × 7\n",
       "\\begin{tabular}{r|lllllll}\n",
       "  & UF & Sex & Age & Color & Years.of.Studies & Income & Height\\\\\n",
       "  & <int> & <int> & <int> & <int> & <int> & <int> & <dbl>\\\\\n",
       "\\hline\n",
       "\t1 & 11 & 0 & 23 & 8 & 12 &  800 & 1.603808\\\\\n",
       "\t2 & 11 & 1 & 23 & 2 & 12 & 1150 & 1.739790\\\\\n",
       "\t3 & 11 & 1 & 35 & 8 & 15 &  880 & 1.760444\\\\\n",
       "\t4 & 11 & 0 & 46 & 2 &  6 & 3500 & 1.783158\\\\\n",
       "\t5 & 11 & 1 & 47 & 8 &  9 &  150 & 1.690631\\\\\n",
       "\t6 & 11 & 1 & 34 & 8 & 12 &  790 & 1.637906\\\\\n",
       "\\end{tabular}\n"
      ],
      "text/markdown": [
       "\n",
       "A data.frame: 6 × 7\n",
       "\n",
       "| <!--/--> | UF &lt;int&gt; | Sex &lt;int&gt; | Age &lt;int&gt; | Color &lt;int&gt; | Years.of.Studies &lt;int&gt; | Income &lt;int&gt; | Height &lt;dbl&gt; |\n",
       "|---|---|---|---|---|---|---|---|\n",
       "| 1 | 11 | 0 | 23 | 8 | 12 |  800 | 1.603808 |\n",
       "| 2 | 11 | 1 | 23 | 2 | 12 | 1150 | 1.739790 |\n",
       "| 3 | 11 | 1 | 35 | 8 | 15 |  880 | 1.760444 |\n",
       "| 4 | 11 | 0 | 46 | 2 |  6 | 3500 | 1.783158 |\n",
       "| 5 | 11 | 1 | 47 | 8 |  9 |  150 | 1.690631 |\n",
       "| 6 | 11 | 1 | 34 | 8 | 12 |  790 | 1.637906 |\n",
       "\n"
      ],
      "text/plain": [
       "  UF Sex Age Color Years.of.Studies Income Height  \n",
       "1 11 0   23  8     12                800   1.603808\n",
       "2 11 1   23  2     12               1150   1.739790\n",
       "3 11 1   35  8     15                880   1.760444\n",
       "4 11 0   46  2      6               3500   1.783158\n",
       "5 11 1   47  8      9                150   1.690631\n",
       "6 11 1   34  8     12                790   1.637906"
      ]
     },
     "metadata": {},
     "output_type": "display_data"
    }
   ],
   "source": [
    "head(dataset)"
   ]
  },
  {
   "cell_type": "markdown",
   "id": "1a1dcad3-6cc1-4a72-84d0-ed0fa9e38390",
   "metadata": {},
   "source": [
    "### Sex"
   ]
  },
  {
   "cell_type": "code",
   "execution_count": 61,
   "id": "eb1099d7-c69c-40c3-867c-6097013a1834",
   "metadata": {},
   "outputs": [],
   "source": [
    "dataset$Cat.Sex <- factor(dataset$Sex)\n",
    "levels(dataset$Cat.Sex) <- sex "
   ]
  },
  {
   "cell_type": "code",
   "execution_count": 62,
   "id": "00329d31-d28a-42f7-8df8-e3d06af22cff",
   "metadata": {
    "scrolled": true
   },
   "outputs": [
    {
     "data": {
      "text/html": [
       "<table class=\"dataframe\">\n",
       "<caption>A data.frame: 6 × 8</caption>\n",
       "<thead>\n",
       "\t<tr><th></th><th scope=col>UF</th><th scope=col>Sex</th><th scope=col>Age</th><th scope=col>Color</th><th scope=col>Years.of.Studies</th><th scope=col>Income</th><th scope=col>Height</th><th scope=col>Cat.Sex</th></tr>\n",
       "\t<tr><th></th><th scope=col>&lt;int&gt;</th><th scope=col>&lt;int&gt;</th><th scope=col>&lt;int&gt;</th><th scope=col>&lt;int&gt;</th><th scope=col>&lt;int&gt;</th><th scope=col>&lt;int&gt;</th><th scope=col>&lt;dbl&gt;</th><th scope=col>&lt;fct&gt;</th></tr>\n",
       "</thead>\n",
       "<tbody>\n",
       "\t<tr><th scope=row>1</th><td>11</td><td>0</td><td>23</td><td>8</td><td>12</td><td> 800</td><td>1.603808</td><td>Masculine</td></tr>\n",
       "\t<tr><th scope=row>2</th><td>11</td><td>1</td><td>23</td><td>2</td><td>12</td><td>1150</td><td>1.739790</td><td>Feminine </td></tr>\n",
       "\t<tr><th scope=row>3</th><td>11</td><td>1</td><td>35</td><td>8</td><td>15</td><td> 880</td><td>1.760444</td><td>Feminine </td></tr>\n",
       "\t<tr><th scope=row>4</th><td>11</td><td>0</td><td>46</td><td>2</td><td> 6</td><td>3500</td><td>1.783158</td><td>Masculine</td></tr>\n",
       "\t<tr><th scope=row>5</th><td>11</td><td>1</td><td>47</td><td>8</td><td> 9</td><td> 150</td><td>1.690631</td><td>Feminine </td></tr>\n",
       "\t<tr><th scope=row>6</th><td>11</td><td>1</td><td>34</td><td>8</td><td>12</td><td> 790</td><td>1.637906</td><td>Feminine </td></tr>\n",
       "</tbody>\n",
       "</table>\n"
      ],
      "text/latex": [
       "A data.frame: 6 × 8\n",
       "\\begin{tabular}{r|llllllll}\n",
       "  & UF & Sex & Age & Color & Years.of.Studies & Income & Height & Cat.Sex\\\\\n",
       "  & <int> & <int> & <int> & <int> & <int> & <int> & <dbl> & <fct>\\\\\n",
       "\\hline\n",
       "\t1 & 11 & 0 & 23 & 8 & 12 &  800 & 1.603808 & Masculine\\\\\n",
       "\t2 & 11 & 1 & 23 & 2 & 12 & 1150 & 1.739790 & Feminine \\\\\n",
       "\t3 & 11 & 1 & 35 & 8 & 15 &  880 & 1.760444 & Feminine \\\\\n",
       "\t4 & 11 & 0 & 46 & 2 &  6 & 3500 & 1.783158 & Masculine\\\\\n",
       "\t5 & 11 & 1 & 47 & 8 &  9 &  150 & 1.690631 & Feminine \\\\\n",
       "\t6 & 11 & 1 & 34 & 8 & 12 &  790 & 1.637906 & Feminine \\\\\n",
       "\\end{tabular}\n"
      ],
      "text/markdown": [
       "\n",
       "A data.frame: 6 × 8\n",
       "\n",
       "| <!--/--> | UF &lt;int&gt; | Sex &lt;int&gt; | Age &lt;int&gt; | Color &lt;int&gt; | Years.of.Studies &lt;int&gt; | Income &lt;int&gt; | Height &lt;dbl&gt; | Cat.Sex &lt;fct&gt; |\n",
       "|---|---|---|---|---|---|---|---|---|\n",
       "| 1 | 11 | 0 | 23 | 8 | 12 |  800 | 1.603808 | Masculine |\n",
       "| 2 | 11 | 1 | 23 | 2 | 12 | 1150 | 1.739790 | Feminine  |\n",
       "| 3 | 11 | 1 | 35 | 8 | 15 |  880 | 1.760444 | Feminine  |\n",
       "| 4 | 11 | 0 | 46 | 2 |  6 | 3500 | 1.783158 | Masculine |\n",
       "| 5 | 11 | 1 | 47 | 8 |  9 |  150 | 1.690631 | Feminine  |\n",
       "| 6 | 11 | 1 | 34 | 8 | 12 |  790 | 1.637906 | Feminine  |\n",
       "\n"
      ],
      "text/plain": [
       "  UF Sex Age Color Years.of.Studies Income Height   Cat.Sex  \n",
       "1 11 0   23  8     12                800   1.603808 Masculine\n",
       "2 11 1   23  2     12               1150   1.739790 Feminine \n",
       "3 11 1   35  8     15                880   1.760444 Feminine \n",
       "4 11 0   46  2      6               3500   1.783158 Masculine\n",
       "5 11 1   47  8      9                150   1.690631 Feminine \n",
       "6 11 1   34  8     12                790   1.637906 Feminine "
      ]
     },
     "metadata": {},
     "output_type": "display_data"
    }
   ],
   "source": [
    "head(dataset)"
   ]
  },
  {
   "cell_type": "markdown",
   "id": "bfc7125d-b445-4e1e-a7fb-57259342dc7b",
   "metadata": {},
   "source": [
    "### Color"
   ]
  },
  {
   "cell_type": "code",
   "execution_count": 63,
   "id": "5d2950f7-addd-41cd-9177-7ab7f5862a80",
   "metadata": {},
   "outputs": [],
   "source": [
    "dataset$Cat.Color <- factor(dataset$Color)\n",
    "levels(dataset$Cat.Color) <- color"
   ]
  },
  {
   "cell_type": "code",
   "execution_count": 64,
   "id": "6e04cd8b-9640-44b8-a12c-1a813a5dfd86",
   "metadata": {},
   "outputs": [
    {
     "data": {
      "text/html": [
       "<table class=\"dataframe\">\n",
       "<caption>A data.frame: 10 × 9</caption>\n",
       "<thead>\n",
       "\t<tr><th></th><th scope=col>UF</th><th scope=col>Sex</th><th scope=col>Age</th><th scope=col>Color</th><th scope=col>Years.of.Studies</th><th scope=col>Income</th><th scope=col>Height</th><th scope=col>Cat.Sex</th><th scope=col>Cat.Color</th></tr>\n",
       "\t<tr><th></th><th scope=col>&lt;int&gt;</th><th scope=col>&lt;int&gt;</th><th scope=col>&lt;int&gt;</th><th scope=col>&lt;int&gt;</th><th scope=col>&lt;int&gt;</th><th scope=col>&lt;int&gt;</th><th scope=col>&lt;dbl&gt;</th><th scope=col>&lt;fct&gt;</th><th scope=col>&lt;fct&gt;</th></tr>\n",
       "</thead>\n",
       "<tbody>\n",
       "\t<tr><th scope=row>1</th><td>11</td><td>0</td><td>23</td><td>8</td><td>12</td><td> 800</td><td>1.603808</td><td>Masculine</td><td>Brown</td></tr>\n",
       "\t<tr><th scope=row>2</th><td>11</td><td>1</td><td>23</td><td>2</td><td>12</td><td>1150</td><td>1.739790</td><td>Feminine </td><td>White</td></tr>\n",
       "\t<tr><th scope=row>3</th><td>11</td><td>1</td><td>35</td><td>8</td><td>15</td><td> 880</td><td>1.760444</td><td>Feminine </td><td>Brown</td></tr>\n",
       "\t<tr><th scope=row>4</th><td>11</td><td>0</td><td>46</td><td>2</td><td> 6</td><td>3500</td><td>1.783158</td><td>Masculine</td><td>White</td></tr>\n",
       "\t<tr><th scope=row>5</th><td>11</td><td>1</td><td>47</td><td>8</td><td> 9</td><td> 150</td><td>1.690631</td><td>Feminine </td><td>Brown</td></tr>\n",
       "\t<tr><th scope=row>6</th><td>11</td><td>1</td><td>34</td><td>8</td><td>12</td><td> 790</td><td>1.637906</td><td>Feminine </td><td>Brown</td></tr>\n",
       "\t<tr><th scope=row>7</th><td>11</td><td>0</td><td>57</td><td>8</td><td>12</td><td>3150</td><td>1.570078</td><td>Masculine</td><td>Brown</td></tr>\n",
       "\t<tr><th scope=row>8</th><td>11</td><td>1</td><td>60</td><td>8</td><td>12</td><td>1700</td><td>1.608495</td><td>Feminine </td><td>Brown</td></tr>\n",
       "\t<tr><th scope=row>9</th><td>11</td><td>1</td><td>50</td><td>4</td><td>14</td><td>1800</td><td>1.780329</td><td>Feminine </td><td>Black</td></tr>\n",
       "\t<tr><th scope=row>10</th><td>11</td><td>0</td><td>26</td><td>8</td><td>12</td><td>1150</td><td>1.793203</td><td>Masculine</td><td>Brown</td></tr>\n",
       "</tbody>\n",
       "</table>\n"
      ],
      "text/latex": [
       "A data.frame: 10 × 9\n",
       "\\begin{tabular}{r|lllllllll}\n",
       "  & UF & Sex & Age & Color & Years.of.Studies & Income & Height & Cat.Sex & Cat.Color\\\\\n",
       "  & <int> & <int> & <int> & <int> & <int> & <int> & <dbl> & <fct> & <fct>\\\\\n",
       "\\hline\n",
       "\t1 & 11 & 0 & 23 & 8 & 12 &  800 & 1.603808 & Masculine & Brown\\\\\n",
       "\t2 & 11 & 1 & 23 & 2 & 12 & 1150 & 1.739790 & Feminine  & White\\\\\n",
       "\t3 & 11 & 1 & 35 & 8 & 15 &  880 & 1.760444 & Feminine  & Brown\\\\\n",
       "\t4 & 11 & 0 & 46 & 2 &  6 & 3500 & 1.783158 & Masculine & White\\\\\n",
       "\t5 & 11 & 1 & 47 & 8 &  9 &  150 & 1.690631 & Feminine  & Brown\\\\\n",
       "\t6 & 11 & 1 & 34 & 8 & 12 &  790 & 1.637906 & Feminine  & Brown\\\\\n",
       "\t7 & 11 & 0 & 57 & 8 & 12 & 3150 & 1.570078 & Masculine & Brown\\\\\n",
       "\t8 & 11 & 1 & 60 & 8 & 12 & 1700 & 1.608495 & Feminine  & Brown\\\\\n",
       "\t9 & 11 & 1 & 50 & 4 & 14 & 1800 & 1.780329 & Feminine  & Black\\\\\n",
       "\t10 & 11 & 0 & 26 & 8 & 12 & 1150 & 1.793203 & Masculine & Brown\\\\\n",
       "\\end{tabular}\n"
      ],
      "text/markdown": [
       "\n",
       "A data.frame: 10 × 9\n",
       "\n",
       "| <!--/--> | UF &lt;int&gt; | Sex &lt;int&gt; | Age &lt;int&gt; | Color &lt;int&gt; | Years.of.Studies &lt;int&gt; | Income &lt;int&gt; | Height &lt;dbl&gt; | Cat.Sex &lt;fct&gt; | Cat.Color &lt;fct&gt; |\n",
       "|---|---|---|---|---|---|---|---|---|---|\n",
       "| 1 | 11 | 0 | 23 | 8 | 12 |  800 | 1.603808 | Masculine | Brown |\n",
       "| 2 | 11 | 1 | 23 | 2 | 12 | 1150 | 1.739790 | Feminine  | White |\n",
       "| 3 | 11 | 1 | 35 | 8 | 15 |  880 | 1.760444 | Feminine  | Brown |\n",
       "| 4 | 11 | 0 | 46 | 2 |  6 | 3500 | 1.783158 | Masculine | White |\n",
       "| 5 | 11 | 1 | 47 | 8 |  9 |  150 | 1.690631 | Feminine  | Brown |\n",
       "| 6 | 11 | 1 | 34 | 8 | 12 |  790 | 1.637906 | Feminine  | Brown |\n",
       "| 7 | 11 | 0 | 57 | 8 | 12 | 3150 | 1.570078 | Masculine | Brown |\n",
       "| 8 | 11 | 1 | 60 | 8 | 12 | 1700 | 1.608495 | Feminine  | Brown |\n",
       "| 9 | 11 | 1 | 50 | 4 | 14 | 1800 | 1.780329 | Feminine  | Black |\n",
       "| 10 | 11 | 0 | 26 | 8 | 12 | 1150 | 1.793203 | Masculine | Brown |\n",
       "\n"
      ],
      "text/plain": [
       "   UF Sex Age Color Years.of.Studies Income Height   Cat.Sex   Cat.Color\n",
       "1  11 0   23  8     12                800   1.603808 Masculine Brown    \n",
       "2  11 1   23  2     12               1150   1.739790 Feminine  White    \n",
       "3  11 1   35  8     15                880   1.760444 Feminine  Brown    \n",
       "4  11 0   46  2      6               3500   1.783158 Masculine White    \n",
       "5  11 1   47  8      9                150   1.690631 Feminine  Brown    \n",
       "6  11 1   34  8     12                790   1.637906 Feminine  Brown    \n",
       "7  11 0   57  8     12               3150   1.570078 Masculine Brown    \n",
       "8  11 1   60  8     12               1700   1.608495 Feminine  Brown    \n",
       "9  11 1   50  4     14               1800   1.780329 Feminine  Black    \n",
       "10 11 0   26  8     12               1150   1.793203 Masculine Brown    "
      ]
     },
     "metadata": {},
     "output_type": "display_data"
    }
   ],
   "source": [
    "head(dataset, 10)"
   ]
  },
  {
   "cell_type": "markdown",
   "id": "59cc0d1c-aa45-4b01-a27a-eccaf2ad44ca",
   "metadata": {},
   "source": [
    "### Years of study"
   ]
  },
  {
   "cell_type": "code",
   "execution_count": 65,
   "id": "fa6ed81c-3a52-47f0-ace9-0fa9d5d47bfc",
   "metadata": {},
   "outputs": [],
   "source": [
    "dataset$Cat.Years.of.Studies <- factor(dataset$Years.of.Studies, order=TRUE)\n",
    "levels(dataset$Cat.Years.of.Studies) <- years_of_study"
   ]
  },
  {
   "cell_type": "code",
   "execution_count": 66,
   "id": "a8840046-88bc-47c6-a4a6-e62a9256dbb2",
   "metadata": {},
   "outputs": [
    {
     "data": {
      "text/html": [
       "<table class=\"dataframe\">\n",
       "<caption>A data.frame: 10 × 10</caption>\n",
       "<thead>\n",
       "\t<tr><th></th><th scope=col>UF</th><th scope=col>Sex</th><th scope=col>Age</th><th scope=col>Color</th><th scope=col>Years.of.Studies</th><th scope=col>Income</th><th scope=col>Height</th><th scope=col>Cat.Sex</th><th scope=col>Cat.Color</th><th scope=col>Cat.Years.of.Studies</th></tr>\n",
       "\t<tr><th></th><th scope=col>&lt;int&gt;</th><th scope=col>&lt;int&gt;</th><th scope=col>&lt;int&gt;</th><th scope=col>&lt;int&gt;</th><th scope=col>&lt;int&gt;</th><th scope=col>&lt;int&gt;</th><th scope=col>&lt;dbl&gt;</th><th scope=col>&lt;fct&gt;</th><th scope=col>&lt;fct&gt;</th><th scope=col>&lt;ord&gt;</th></tr>\n",
       "</thead>\n",
       "<tbody>\n",
       "\t<tr><th scope=row>1</th><td>11</td><td>0</td><td>23</td><td>8</td><td>12</td><td> 800</td><td>1.603808</td><td>Masculine</td><td>Brown</td><td>11 years</td></tr>\n",
       "\t<tr><th scope=row>2</th><td>11</td><td>1</td><td>23</td><td>2</td><td>12</td><td>1150</td><td>1.739790</td><td>Feminine </td><td>White</td><td>11 years</td></tr>\n",
       "\t<tr><th scope=row>3</th><td>11</td><td>1</td><td>35</td><td>8</td><td>15</td><td> 880</td><td>1.760444</td><td>Feminine </td><td>Brown</td><td>14 years</td></tr>\n",
       "\t<tr><th scope=row>4</th><td>11</td><td>0</td><td>46</td><td>2</td><td> 6</td><td>3500</td><td>1.783158</td><td>Masculine</td><td>White</td><td>5 years </td></tr>\n",
       "\t<tr><th scope=row>5</th><td>11</td><td>1</td><td>47</td><td>8</td><td> 9</td><td> 150</td><td>1.690631</td><td>Feminine </td><td>Brown</td><td>8 years </td></tr>\n",
       "\t<tr><th scope=row>6</th><td>11</td><td>1</td><td>34</td><td>8</td><td>12</td><td> 790</td><td>1.637906</td><td>Feminine </td><td>Brown</td><td>11 years</td></tr>\n",
       "\t<tr><th scope=row>7</th><td>11</td><td>0</td><td>57</td><td>8</td><td>12</td><td>3150</td><td>1.570078</td><td>Masculine</td><td>Brown</td><td>11 years</td></tr>\n",
       "\t<tr><th scope=row>8</th><td>11</td><td>1</td><td>60</td><td>8</td><td>12</td><td>1700</td><td>1.608495</td><td>Feminine </td><td>Brown</td><td>11 years</td></tr>\n",
       "\t<tr><th scope=row>9</th><td>11</td><td>1</td><td>50</td><td>4</td><td>14</td><td>1800</td><td>1.780329</td><td>Feminine </td><td>Black</td><td>13 years</td></tr>\n",
       "\t<tr><th scope=row>10</th><td>11</td><td>0</td><td>26</td><td>8</td><td>12</td><td>1150</td><td>1.793203</td><td>Masculine</td><td>Brown</td><td>11 years</td></tr>\n",
       "</tbody>\n",
       "</table>\n"
      ],
      "text/latex": [
       "A data.frame: 10 × 10\n",
       "\\begin{tabular}{r|llllllllll}\n",
       "  & UF & Sex & Age & Color & Years.of.Studies & Income & Height & Cat.Sex & Cat.Color & Cat.Years.of.Studies\\\\\n",
       "  & <int> & <int> & <int> & <int> & <int> & <int> & <dbl> & <fct> & <fct> & <ord>\\\\\n",
       "\\hline\n",
       "\t1 & 11 & 0 & 23 & 8 & 12 &  800 & 1.603808 & Masculine & Brown & 11 years\\\\\n",
       "\t2 & 11 & 1 & 23 & 2 & 12 & 1150 & 1.739790 & Feminine  & White & 11 years\\\\\n",
       "\t3 & 11 & 1 & 35 & 8 & 15 &  880 & 1.760444 & Feminine  & Brown & 14 years\\\\\n",
       "\t4 & 11 & 0 & 46 & 2 &  6 & 3500 & 1.783158 & Masculine & White & 5 years \\\\\n",
       "\t5 & 11 & 1 & 47 & 8 &  9 &  150 & 1.690631 & Feminine  & Brown & 8 years \\\\\n",
       "\t6 & 11 & 1 & 34 & 8 & 12 &  790 & 1.637906 & Feminine  & Brown & 11 years\\\\\n",
       "\t7 & 11 & 0 & 57 & 8 & 12 & 3150 & 1.570078 & Masculine & Brown & 11 years\\\\\n",
       "\t8 & 11 & 1 & 60 & 8 & 12 & 1700 & 1.608495 & Feminine  & Brown & 11 years\\\\\n",
       "\t9 & 11 & 1 & 50 & 4 & 14 & 1800 & 1.780329 & Feminine  & Black & 13 years\\\\\n",
       "\t10 & 11 & 0 & 26 & 8 & 12 & 1150 & 1.793203 & Masculine & Brown & 11 years\\\\\n",
       "\\end{tabular}\n"
      ],
      "text/markdown": [
       "\n",
       "A data.frame: 10 × 10\n",
       "\n",
       "| <!--/--> | UF &lt;int&gt; | Sex &lt;int&gt; | Age &lt;int&gt; | Color &lt;int&gt; | Years.of.Studies &lt;int&gt; | Income &lt;int&gt; | Height &lt;dbl&gt; | Cat.Sex &lt;fct&gt; | Cat.Color &lt;fct&gt; | Cat.Years.of.Studies &lt;ord&gt; |\n",
       "|---|---|---|---|---|---|---|---|---|---|---|\n",
       "| 1 | 11 | 0 | 23 | 8 | 12 |  800 | 1.603808 | Masculine | Brown | 11 years |\n",
       "| 2 | 11 | 1 | 23 | 2 | 12 | 1150 | 1.739790 | Feminine  | White | 11 years |\n",
       "| 3 | 11 | 1 | 35 | 8 | 15 |  880 | 1.760444 | Feminine  | Brown | 14 years |\n",
       "| 4 | 11 | 0 | 46 | 2 |  6 | 3500 | 1.783158 | Masculine | White | 5 years  |\n",
       "| 5 | 11 | 1 | 47 | 8 |  9 |  150 | 1.690631 | Feminine  | Brown | 8 years  |\n",
       "| 6 | 11 | 1 | 34 | 8 | 12 |  790 | 1.637906 | Feminine  | Brown | 11 years |\n",
       "| 7 | 11 | 0 | 57 | 8 | 12 | 3150 | 1.570078 | Masculine | Brown | 11 years |\n",
       "| 8 | 11 | 1 | 60 | 8 | 12 | 1700 | 1.608495 | Feminine  | Brown | 11 years |\n",
       "| 9 | 11 | 1 | 50 | 4 | 14 | 1800 | 1.780329 | Feminine  | Black | 13 years |\n",
       "| 10 | 11 | 0 | 26 | 8 | 12 | 1150 | 1.793203 | Masculine | Brown | 11 years |\n",
       "\n"
      ],
      "text/plain": [
       "   UF Sex Age Color Years.of.Studies Income Height   Cat.Sex   Cat.Color\n",
       "1  11 0   23  8     12                800   1.603808 Masculine Brown    \n",
       "2  11 1   23  2     12               1150   1.739790 Feminine  White    \n",
       "3  11 1   35  8     15                880   1.760444 Feminine  Brown    \n",
       "4  11 0   46  2      6               3500   1.783158 Masculine White    \n",
       "5  11 1   47  8      9                150   1.690631 Feminine  Brown    \n",
       "6  11 1   34  8     12                790   1.637906 Feminine  Brown    \n",
       "7  11 0   57  8     12               3150   1.570078 Masculine Brown    \n",
       "8  11 1   60  8     12               1700   1.608495 Feminine  Brown    \n",
       "9  11 1   50  4     14               1800   1.780329 Feminine  Black    \n",
       "10 11 0   26  8     12               1150   1.793203 Masculine Brown    \n",
       "   Cat.Years.of.Studies\n",
       "1  11 years            \n",
       "2  11 years            \n",
       "3  14 years            \n",
       "4  5 years             \n",
       "5  8 years             \n",
       "6  11 years            \n",
       "7  11 years            \n",
       "8  11 years            \n",
       "9  13 years            \n",
       "10 11 years            "
      ]
     },
     "metadata": {},
     "output_type": "display_data"
    }
   ],
   "source": [
    "head(dataset, 10)"
   ]
  },
  {
   "cell_type": "markdown",
   "id": "0ed74a2d-202d-4894-94e7-ae6e1419f988",
   "metadata": {},
   "source": [
    "#### Creating frequencies"
   ]
  },
  {
   "cell_type": "code",
   "execution_count": 67,
   "id": "de04010f-0957-4791-af93-a14eb21bcf16",
   "metadata": {},
   "outputs": [
    {
     "data": {
      "text/plain": [
       "           \n",
       "            Indigenous White Black Yellow Brown\n",
       "  Masculine        256 22194  5502    235 25063\n",
       "  Feminine         101  9621  2889    117 10862"
      ]
     },
     "metadata": {},
     "output_type": "display_data"
    }
   ],
   "source": [
    "frequency_sex_and_color <- table(dataset$Cat.Sex, dataset$Cat.Color)\n",
    "frequency_sex_and_color"
   ]
  },
  {
   "cell_type": "code",
   "execution_count": 68,
   "id": "7bb1460e-6036-47d0-911f-db778e94085a",
   "metadata": {},
   "outputs": [
    {
     "data": {
      "text/html": [
       "<table class=\"dataframe\">\n",
       "<caption>A matrix: 2 × 5 of type int</caption>\n",
       "<thead>\n",
       "\t<tr><th></th><th scope=col>Indigenous</th><th scope=col>White</th><th scope=col>Black</th><th scope=col>Yellow</th><th scope=col>Brown</th></tr>\n",
       "</thead>\n",
       "<tbody>\n",
       "\t<tr><th scope=row>Masculine</th><td>256</td><td>22194</td><td>5502</td><td>235</td><td>25063</td></tr>\n",
       "\t<tr><th scope=row>Feminine</th><td>101</td><td> 9621</td><td>2889</td><td>117</td><td>10862</td></tr>\n",
       "</tbody>\n",
       "</table>\n"
      ],
      "text/latex": [
       "A matrix: 2 × 5 of type int\n",
       "\\begin{tabular}{r|lllll}\n",
       "  & Indigenous & White & Black & Yellow & Brown\\\\\n",
       "\\hline\n",
       "\tMasculine & 256 & 22194 & 5502 & 235 & 25063\\\\\n",
       "\tFeminine & 101 &  9621 & 2889 & 117 & 10862\\\\\n",
       "\\end{tabular}\n"
      ],
      "text/markdown": [
       "\n",
       "A matrix: 2 × 5 of type int\n",
       "\n",
       "| <!--/--> | Indigenous | White | Black | Yellow | Brown |\n",
       "|---|---|---|---|---|---|\n",
       "| Masculine | 256 | 22194 | 5502 | 235 | 25063 |\n",
       "| Feminine | 101 |  9621 | 2889 | 117 | 10862 |\n",
       "\n"
      ],
      "text/plain": [
       "          Indigenous White Black Yellow Brown\n",
       "Masculine 256        22194 5502  235    25063\n",
       "Feminine  101         9621 2889  117    10862"
      ]
     },
     "metadata": {},
     "output_type": "display_data"
    }
   ],
   "source": [
    "frequency_sex_and_color <- cbind(frequency_sex_and_color)\n",
    "frequency_sex_and_color"
   ]
  },
  {
   "cell_type": "markdown",
   "id": "e19478de-4a55-49f5-992d-32d6e18f310b",
   "metadata": {},
   "source": [
    "#### It is concluded that the majority of people are brown, and women account for a smaller portion than men considering the total number of people in this research"
   ]
  },
  {
   "cell_type": "markdown",
   "id": "1d9d1c8b-ce7a-4218-91dd-f64184c09c3c",
   "metadata": {},
   "source": [
    " "
   ]
  },
  {
   "cell_type": "markdown",
   "id": "3b685529-7415-4c2d-83b0-6e9c27d10655",
   "metadata": {},
   "source": [
    " "
   ]
  },
  {
   "cell_type": "markdown",
   "id": "6c0f97f4-80b4-4f65-a791-7c8812363cca",
   "metadata": {},
   "source": [
    "### Analyzing the income variable"
   ]
  },
  {
   "cell_type": "markdown",
   "id": "5434dd68-fcad-49c4-b5a7-b911700c80c1",
   "metadata": {},
   "source": [
    "#### The arithmetic mean of income"
   ]
  },
  {
   "cell_type": "code",
   "execution_count": 69,
   "id": "fb8d6b4c-f89a-41b8-9dcd-d8fa0aa1738d",
   "metadata": {},
   "outputs": [
    {
     "data": {
      "text/html": [
       "2000.38319885476"
      ],
      "text/latex": [
       "2000.38319885476"
      ],
      "text/markdown": [
       "2000.38319885476"
      ],
      "text/plain": [
       "[1] 2000.383"
      ]
     },
     "metadata": {},
     "output_type": "display_data"
    }
   ],
   "source": [
    "mean(dataset$Income)"
   ]
  },
  {
   "cell_type": "markdown",
   "id": "da999982-396f-415c-811f-aa8f748ef921",
   "metadata": {},
   "source": [
    "### Mean: 2000.38319885476\n"
   ]
  },
  {
   "cell_type": "markdown",
   "id": "6ea258e1-e411-4de4-ab4a-eecae8b7cb39",
   "metadata": {},
   "source": [
    "  "
   ]
  },
  {
   "cell_type": "markdown",
   "id": "fdb4c14e-b54f-41cd-b4a8-68f0f90b9610",
   "metadata": {},
   "source": [
    "  "
   ]
  },
  {
   "cell_type": "markdown",
   "id": "7159f2f5-025a-44a5-a218-0a670e432b73",
   "metadata": {},
   "source": [
    "### The median income"
   ]
  },
  {
   "cell_type": "code",
   "execution_count": 70,
   "id": "a4780aa1-35f0-4231-93ee-35e9cf9f41fc",
   "metadata": {},
   "outputs": [
    {
     "data": {
      "text/html": [
       "1200"
      ],
      "text/latex": [
       "1200"
      ],
      "text/markdown": [
       "1200"
      ],
      "text/plain": [
       "[1] 1200"
      ]
     },
     "metadata": {},
     "output_type": "display_data"
    }
   ],
   "source": [
    "median(dataset$Income)"
   ]
  },
  {
   "cell_type": "markdown",
   "id": "82be05cf-9074-4c9f-a47c-770e5f2cd645",
   "metadata": {},
   "source": [
    "### Median: 1200"
   ]
  },
  {
   "cell_type": "markdown",
   "id": "805416e7-d7f2-47e5-802c-929db90f7076",
   "metadata": {},
   "source": [
    " "
   ]
  },
  {
   "cell_type": "markdown",
   "id": "4ddedbca-4aea-49ec-a903-f55ecd0a21f1",
   "metadata": {},
   "source": [
    "### The mode of income"
   ]
  },
  {
   "cell_type": "markdown",
   "id": "1987bd42-f488-4016-af7e-963fbbcf0ce8",
   "metadata": {},
   "source": [
    "#### Defining function to calculate the mode"
   ]
  },
  {
   "cell_type": "code",
   "execution_count": 71,
   "id": "ec0915e3-479d-4439-be3f-93695c11cb5a",
   "metadata": {},
   "outputs": [],
   "source": [
    "mode <- function(x){\n",
    "    freq <- table(x)\n",
    "    return(names(freq)[freq == max(freq)])\n",
    "}"
   ]
  },
  {
   "cell_type": "code",
   "execution_count": 72,
   "id": "16d6141a-e6e3-4479-a4ec-af71943d2e6b",
   "metadata": {},
   "outputs": [
    {
     "data": {
      "text/html": [
       "788"
      ],
      "text/latex": [
       "788"
      ],
      "text/markdown": [
       "788"
      ],
      "text/plain": [
       "[1] 788"
      ]
     },
     "metadata": {},
     "output_type": "display_data"
    }
   ],
   "source": [
    "as.numeric(mode(dataset$Income))"
   ]
  },
  {
   "cell_type": "markdown",
   "id": "7adb6cd8-8fc0-4111-b538-a43fc1cce861",
   "metadata": {},
   "source": [
    "### Mode: 788"
   ]
  },
  {
   "cell_type": "markdown",
   "id": "970199f6-bd95-4ab6-8f1c-2ec1eb14aff8",
   "metadata": {},
   "source": [
    " "
   ]
  },
  {
   "cell_type": "markdown",
   "id": "8f514d50-3193-4841-81f7-01417ed6f9f3",
   "metadata": {},
   "source": [
    " "
   ]
  },
  {
   "cell_type": "markdown",
   "id": "a72fb405-686b-4cf9-af1d-2101a5a51024",
   "metadata": {},
   "source": [
    "### The variance of income"
   ]
  },
  {
   "cell_type": "code",
   "execution_count": 73,
   "id": "da49f111-41c7-4572-8df5-c2a29da2e4fc",
   "metadata": {},
   "outputs": [
    {
     "data": {
      "text/html": [
       "11044906.006217"
      ],
      "text/latex": [
       "11044906.006217"
      ],
      "text/markdown": [
       "11044906.006217"
      ],
      "text/plain": [
       "[1] 11044906"
      ]
     },
     "metadata": {},
     "output_type": "display_data"
    }
   ],
   "source": [
    "var(dataset$Income)"
   ]
  },
  {
   "cell_type": "markdown",
   "id": "91e55fc0-73e3-4513-b0e7-6b1085ba3cc5",
   "metadata": {},
   "source": [
    "### Variance: 11044906.006217"
   ]
  },
  {
   "cell_type": "markdown",
   "id": "dc48eaf4-57b3-4759-a23c-9da7f90f7924",
   "metadata": {},
   "source": [
    " "
   ]
  },
  {
   "cell_type": "markdown",
   "id": "fb67c3f2-f810-41dc-a88e-c547ddc0df16",
   "metadata": {},
   "source": [
    " "
   ]
  },
  {
   "cell_type": "markdown",
   "id": "a7bdba50-f86e-4c3c-9678-5a267970b379",
   "metadata": {},
   "source": [
    "### The standard deviation of income"
   ]
  },
  {
   "cell_type": "code",
   "execution_count": 74,
   "id": "54c44dbb-3292-4e1c-b0ca-d9d438c530e8",
   "metadata": {},
   "outputs": [
    {
     "data": {
      "text/html": [
       "3323.3877303464"
      ],
      "text/latex": [
       "3323.3877303464"
      ],
      "text/markdown": [
       "3323.3877303464"
      ],
      "text/plain": [
       "[1] 3323.388"
      ]
     },
     "metadata": {},
     "output_type": "display_data"
    }
   ],
   "source": [
    "sd(dataset$Income)"
   ]
  },
  {
   "cell_type": "markdown",
   "id": "582b3f35-f735-452c-826f-224582e52607",
   "metadata": {},
   "source": [
    "### Standard deviation: 3323.3877303464"
   ]
  },
  {
   "cell_type": "markdown",
   "id": "f632fdcb-41d9-47a5-b542-4a6fdf000e50",
   "metadata": {},
   "source": [
    " "
   ]
  },
  {
   "cell_type": "markdown",
   "id": "6e1b73a6-e367-46f3-9f7c-0b634fcba776",
   "metadata": {},
   "source": [
    " "
   ]
  },
  {
   "cell_type": "markdown",
   "id": "69610056-e560-4ce1-9583-ccf19a5575e6",
   "metadata": {},
   "source": [
    "#### Maximum value earned by 99% of people in our dataset"
   ]
  },
  {
   "cell_type": "code",
   "execution_count": 75,
   "id": "504dc354-7eb2-4ff9-b17b-969f564bb52d",
   "metadata": {},
   "outputs": [
    {
     "data": {
      "text/html": [
       "<strong>99%:</strong> 15000"
      ],
      "text/latex": [
       "\\textbf{99\\textbackslash{}\\%:} 15000"
      ],
      "text/markdown": [
       "**99%:** 15000"
      ],
      "text/plain": [
       "  99% \n",
       "15000 "
      ]
     },
     "metadata": {},
     "output_type": "display_data"
    }
   ],
   "source": [
    "quantile(dataset$Income, .99)"
   ]
  },
  {
   "cell_type": "markdown",
   "id": "18bf75b4-2008-4ef1-b17f-8a3ad128d7c3",
   "metadata": {},
   "source": [
    "#### People in our dataset earn a minimum wage (R$788.00) or less"
   ]
  },
  {
   "cell_type": "code",
   "execution_count": 76,
   "id": "8860fd6e-1cdd-417d-93d1-3e13998eb75c",
   "metadata": {},
   "outputs": [
    {
     "data": {
      "text/html": [
       "28.8677771993753"
      ],
      "text/latex": [
       "28.8677771993753"
      ],
      "text/markdown": [
       "28.8677771993753"
      ],
      "text/plain": [
       "[1] 28.86778"
      ]
     },
     "metadata": {},
     "output_type": "display_data"
    }
   ],
   "source": [
    "length(dataset$Income[dataset$Income<=788]) / length(dataset$Income) * 100"
   ]
  },
  {
   "cell_type": "markdown",
   "id": "171263eb-dec8-4523-b40f-202f59cf6d78",
   "metadata": {},
   "source": [
    "#### 28.86%  People earn a minimum wage (R$788.00) or less"
   ]
  },
  {
   "cell_type": "markdown",
   "id": "3bc3adcb-3cbf-421e-b5d5-1e18b263efcc",
   "metadata": {},
   "source": [
    " "
   ]
  },
  {
   "cell_type": "markdown",
   "id": "4fcdebb1-9695-499b-a2be-06a58bd1d97d",
   "metadata": {},
   "source": [
    " "
   ]
  },
  {
   "cell_type": "markdown",
   "id": "96375328-f838-4f11-b677-34ff9426ec92",
   "metadata": {},
   "source": [
    "### Checking the mean, median and maximum value of the INCOME variable according to SEX and COLOR"
   ]
  },
  {
   "cell_type": "markdown",
   "id": "b3407a95-5dcb-4e1c-a98d-dff38ac663db",
   "metadata": {},
   "source": [
    "#### Mean Sex X Color for Income"
   ]
  },
  {
   "cell_type": "code",
   "execution_count": 77,
   "id": "06b25bf0-768f-4fa7-a053-d6de0a9341c3",
   "metadata": {
    "scrolled": true
   },
   "outputs": [
    {
     "data": {
      "text/html": [
       "<table class=\"dataframe\">\n",
       "<caption>A matrix: 2 × 5 of type dbl</caption>\n",
       "<thead>\n",
       "\t<tr><th></th><th scope=col>Indigenous</th><th scope=col>White</th><th scope=col>Black</th><th scope=col>Yellow</th><th scope=col>Brown</th></tr>\n",
       "</thead>\n",
       "<tbody>\n",
       "\t<tr><th scope=row>Masculine</th><td>1081.711</td><td>2925.744</td><td>1603.862</td><td>4758.251</td><td>1659.577</td></tr>\n",
       "\t<tr><th scope=row>Feminine</th><td>2464.386</td><td>2109.867</td><td>1134.596</td><td>3027.342</td><td>1176.759</td></tr>\n",
       "</tbody>\n",
       "</table>\n"
      ],
      "text/latex": [
       "A matrix: 2 × 5 of type dbl\n",
       "\\begin{tabular}{r|lllll}\n",
       "  & Indigenous & White & Black & Yellow & Brown\\\\\n",
       "\\hline\n",
       "\tMasculine & 1081.711 & 2925.744 & 1603.862 & 4758.251 & 1659.577\\\\\n",
       "\tFeminine & 2464.386 & 2109.867 & 1134.596 & 3027.342 & 1176.759\\\\\n",
       "\\end{tabular}\n"
      ],
      "text/markdown": [
       "\n",
       "A matrix: 2 × 5 of type dbl\n",
       "\n",
       "| <!--/--> | Indigenous | White | Black | Yellow | Brown |\n",
       "|---|---|---|---|---|---|\n",
       "| Masculine | 1081.711 | 2925.744 | 1603.862 | 4758.251 | 1659.577 |\n",
       "| Feminine | 2464.386 | 2109.867 | 1134.596 | 3027.342 | 1176.759 |\n",
       "\n"
      ],
      "text/plain": [
       "          Indigenous White    Black    Yellow   Brown   \n",
       "Masculine 1081.711   2925.744 1603.862 4758.251 1659.577\n",
       "Feminine  2464.386   2109.867 1134.596 3027.342 1176.759"
      ]
     },
     "metadata": {},
     "output_type": "display_data"
    }
   ],
   "source": [
    "mean_income_sex_and_color <- tapply(dataset$Income, list(dataset$Cat.Sex, dataset$Cat.Color), mean)\n",
    "mean_income_sex_and_color"
   ]
  },
  {
   "cell_type": "markdown",
   "id": "b690db17-3072-4961-b177-f9d55702e7d5",
   "metadata": {},
   "source": [
    " "
   ]
  },
  {
   "cell_type": "markdown",
   "id": "181a62c9-6255-4ff5-b1f7-61497534a436",
   "metadata": {},
   "source": [
    " "
   ]
  },
  {
   "cell_type": "markdown",
   "id": "945ab782-f510-4908-9f04-71844501c1bf",
   "metadata": {},
   "source": [
    "#### Median Sex X Color for Income"
   ]
  },
  {
   "cell_type": "code",
   "execution_count": 78,
   "id": "b782b1c4-1e58-4e24-b179-0245a9921ecb",
   "metadata": {
    "scrolled": true
   },
   "outputs": [
    {
     "data": {
      "text/html": [
       "<table class=\"dataframe\">\n",
       "<caption>A matrix: 2 × 5 of type dbl</caption>\n",
       "<thead>\n",
       "\t<tr><th></th><th scope=col>Indigenous</th><th scope=col>White</th><th scope=col>Black</th><th scope=col>Yellow</th><th scope=col>Brown</th></tr>\n",
       "</thead>\n",
       "<tbody>\n",
       "\t<tr><th scope=row>Masculine</th><td>797.5</td><td>1700</td><td>1200</td><td>2800</td><td>1200</td></tr>\n",
       "\t<tr><th scope=row>Feminine</th><td>788.0</td><td>1200</td><td> 800</td><td>1500</td><td> 800</td></tr>\n",
       "</tbody>\n",
       "</table>\n"
      ],
      "text/latex": [
       "A matrix: 2 × 5 of type dbl\n",
       "\\begin{tabular}{r|lllll}\n",
       "  & Indigenous & White & Black & Yellow & Brown\\\\\n",
       "\\hline\n",
       "\tMasculine & 797.5 & 1700 & 1200 & 2800 & 1200\\\\\n",
       "\tFeminine & 788.0 & 1200 &  800 & 1500 &  800\\\\\n",
       "\\end{tabular}\n"
      ],
      "text/markdown": [
       "\n",
       "A matrix: 2 × 5 of type dbl\n",
       "\n",
       "| <!--/--> | Indigenous | White | Black | Yellow | Brown |\n",
       "|---|---|---|---|---|---|\n",
       "| Masculine | 797.5 | 1700 | 1200 | 2800 | 1200 |\n",
       "| Feminine | 788.0 | 1200 |  800 | 1500 |  800 |\n",
       "\n"
      ],
      "text/plain": [
       "          Indigenous White Black Yellow Brown\n",
       "Masculine 797.5      1700  1200  2800   1200 \n",
       "Feminine  788.0      1200   800  1500    800 "
      ]
     },
     "metadata": {},
     "output_type": "display_data"
    }
   ],
   "source": [
    "median_income_sex_and_color <- tapply(dataset$Income, list(dataset$Cat.Sex, dataset$Cat.Color), median)\n",
    "median_income_sex_and_color"
   ]
  },
  {
   "cell_type": "markdown",
   "id": "5cad2058-1364-4c42-89b5-7eedee4638ee",
   "metadata": {},
   "source": [
    " "
   ]
  },
  {
   "cell_type": "markdown",
   "id": "d2eb18ab-4621-4921-9c02-4610317537fd",
   "metadata": {},
   "source": [
    " "
   ]
  },
  {
   "cell_type": "markdown",
   "id": "f789be38-d82e-464a-af3d-f15bc5991adf",
   "metadata": {},
   "source": [
    "#### Max Income Sex X Color for Income"
   ]
  },
  {
   "cell_type": "code",
   "execution_count": 79,
   "id": "2aacbf0b-102e-43a6-9569-bb2d90a4b705",
   "metadata": {
    "scrolled": true
   },
   "outputs": [
    {
     "data": {
      "text/html": [
       "<table class=\"dataframe\">\n",
       "<caption>A matrix: 2 × 5 of type int</caption>\n",
       "<thead>\n",
       "\t<tr><th></th><th scope=col>Indigenous</th><th scope=col>White</th><th scope=col>Black</th><th scope=col>Yellow</th><th scope=col>Brown</th></tr>\n",
       "</thead>\n",
       "<tbody>\n",
       "\t<tr><th scope=row>Masculine</th><td> 10000</td><td>200000</td><td>50000</td><td>50000</td><td>100000</td></tr>\n",
       "\t<tr><th scope=row>Feminine</th><td>120000</td><td>100000</td><td>23000</td><td>20000</td><td> 30000</td></tr>\n",
       "</tbody>\n",
       "</table>\n"
      ],
      "text/latex": [
       "A matrix: 2 × 5 of type int\n",
       "\\begin{tabular}{r|lllll}\n",
       "  & Indigenous & White & Black & Yellow & Brown\\\\\n",
       "\\hline\n",
       "\tMasculine &  10000 & 200000 & 50000 & 50000 & 100000\\\\\n",
       "\tFeminine & 120000 & 100000 & 23000 & 20000 &  30000\\\\\n",
       "\\end{tabular}\n"
      ],
      "text/markdown": [
       "\n",
       "A matrix: 2 × 5 of type int\n",
       "\n",
       "| <!--/--> | Indigenous | White | Black | Yellow | Brown |\n",
       "|---|---|---|---|---|---|\n",
       "| Masculine |  10000 | 200000 | 50000 | 50000 | 100000 |\n",
       "| Feminine | 120000 | 100000 | 23000 | 20000 |  30000 |\n",
       "\n"
      ],
      "text/plain": [
       "          Indigenous White  Black Yellow Brown \n",
       "Masculine  10000     200000 50000 50000  100000\n",
       "Feminine  120000     100000 23000 20000   30000"
      ]
     },
     "metadata": {},
     "output_type": "display_data"
    }
   ],
   "source": [
    "max_income_sex_and_color <- tapply(dataset$Income, list(dataset$Cat.Sex, dataset$Cat.Color), max)\n",
    "max_income_sex_and_color"
   ]
  },
  {
   "cell_type": "markdown",
   "id": "c6394e43-2e88-4c57-8a94-82b2a03ea48b",
   "metadata": {},
   "source": [
    " "
   ]
  },
  {
   "cell_type": "markdown",
   "id": "5d2160c8-fc42-42b9-b4ca-70144ef37833",
   "metadata": {},
   "source": [
    " "
   ]
  },
  {
   "cell_type": "markdown",
   "id": "230ce67e-616f-4d46-84aa-5424b1f6f2ad",
   "metadata": {},
   "source": [
    "#### Variance Sex X Color for Income"
   ]
  },
  {
   "cell_type": "code",
   "execution_count": 80,
   "id": "87e1e788-f36d-438d-81c7-34fdcf9f063d",
   "metadata": {},
   "outputs": [
    {
     "data": {
      "text/html": [
       "<table class=\"dataframe\">\n",
       "<caption>A matrix: 2 × 5 of type dbl</caption>\n",
       "<thead>\n",
       "\t<tr><th></th><th scope=col>Indigenous</th><th scope=col>White</th><th scope=col>Black</th><th scope=col>Yellow</th><th scope=col>Brown</th></tr>\n",
       "</thead>\n",
       "<tbody>\n",
       "\t<tr><th scope=row>Masculine</th><td>  1449841</td><td>22570023</td><td>3749294</td><td>32957070</td><td>5345747</td></tr>\n",
       "\t<tr><th scope=row>Feminine</th><td>142981765</td><td>10569087</td><td>1821960</td><td>13921657</td><td>2547960</td></tr>\n",
       "</tbody>\n",
       "</table>\n"
      ],
      "text/latex": [
       "A matrix: 2 × 5 of type dbl\n",
       "\\begin{tabular}{r|lllll}\n",
       "  & Indigenous & White & Black & Yellow & Brown\\\\\n",
       "\\hline\n",
       "\tMasculine &   1449841 & 22570023 & 3749294 & 32957070 & 5345747\\\\\n",
       "\tFeminine & 142981765 & 10569087 & 1821960 & 13921657 & 2547960\\\\\n",
       "\\end{tabular}\n"
      ],
      "text/markdown": [
       "\n",
       "A matrix: 2 × 5 of type dbl\n",
       "\n",
       "| <!--/--> | Indigenous | White | Black | Yellow | Brown |\n",
       "|---|---|---|---|---|---|\n",
       "| Masculine |   1449841 | 22570023 | 3749294 | 32957070 | 5345747 |\n",
       "| Feminine | 142981765 | 10569087 | 1821960 | 13921657 | 2547960 |\n",
       "\n"
      ],
      "text/plain": [
       "          Indigenous White    Black   Yellow   Brown  \n",
       "Masculine   1449841  22570023 3749294 32957070 5345747\n",
       "Feminine  142981765  10569087 1821960 13921657 2547960"
      ]
     },
     "metadata": {},
     "output_type": "display_data"
    }
   ],
   "source": [
    "variance_income_sex_and_color <- tapply(dataset$Income, list(dataset$Cat.Sex, dataset$Cat.Color), var)\n",
    "variance_income_sex_and_color"
   ]
  },
  {
   "cell_type": "markdown",
   "id": "cd432c6c-5f42-4df5-9c0f-d2240ba7e652",
   "metadata": {},
   "source": [
    " "
   ]
  },
  {
   "cell_type": "markdown",
   "id": "cf9a6e44-79e8-4751-89e5-30f196324620",
   "metadata": {},
   "source": [
    " "
   ]
  },
  {
   "cell_type": "markdown",
   "id": "ff189d28-bb5d-465a-9bd4-9088fc7b126b",
   "metadata": {},
   "source": [
    "#### Standard deviation Sex X Color for Income"
   ]
  },
  {
   "cell_type": "code",
   "execution_count": 81,
   "id": "292bac53-bfff-4d2f-b11d-7ecdec703e2c",
   "metadata": {
    "scrolled": true
   },
   "outputs": [
    {
     "data": {
      "text/html": [
       "<table class=\"dataframe\">\n",
       "<caption>A matrix: 2 × 5 of type dbl</caption>\n",
       "<thead>\n",
       "\t<tr><th></th><th scope=col>Indigenous</th><th scope=col>White</th><th scope=col>Black</th><th scope=col>Yellow</th><th scope=col>Brown</th></tr>\n",
       "</thead>\n",
       "<tbody>\n",
       "\t<tr><th scope=row>Masculine</th><td> 1204.093</td><td>4750.792</td><td>1936.309</td><td>5740.825</td><td>2312.087</td></tr>\n",
       "\t<tr><th scope=row>Feminine</th><td>11957.498</td><td>3251.013</td><td>1349.800</td><td>3731.174</td><td>1596.233</td></tr>\n",
       "</tbody>\n",
       "</table>\n"
      ],
      "text/latex": [
       "A matrix: 2 × 5 of type dbl\n",
       "\\begin{tabular}{r|lllll}\n",
       "  & Indigenous & White & Black & Yellow & Brown\\\\\n",
       "\\hline\n",
       "\tMasculine &  1204.093 & 4750.792 & 1936.309 & 5740.825 & 2312.087\\\\\n",
       "\tFeminine & 11957.498 & 3251.013 & 1349.800 & 3731.174 & 1596.233\\\\\n",
       "\\end{tabular}\n"
      ],
      "text/markdown": [
       "\n",
       "A matrix: 2 × 5 of type dbl\n",
       "\n",
       "| <!--/--> | Indigenous | White | Black | Yellow | Brown |\n",
       "|---|---|---|---|---|---|\n",
       "| Masculine |  1204.093 | 4750.792 | 1936.309 | 5740.825 | 2312.087 |\n",
       "| Feminine | 11957.498 | 3251.013 | 1349.800 | 3731.174 | 1596.233 |\n",
       "\n"
      ],
      "text/plain": [
       "          Indigenous White    Black    Yellow   Brown   \n",
       "Masculine  1204.093  4750.792 1936.309 5740.825 2312.087\n",
       "Feminine  11957.498  3251.013 1349.800 3731.174 1596.233"
      ]
     },
     "metadata": {},
     "output_type": "display_data"
    }
   ],
   "source": [
    "standarddeviation_income_sex_and_color <- tapply(dataset$Income, list(dataset$Cat.Sex, dataset$Cat.Color), sd)\n",
    "standarddeviation_income_sex_and_color"
   ]
  },
  {
   "cell_type": "markdown",
   "id": "6fb93179-834f-4697-8674-bc0c266fa413",
   "metadata": {},
   "source": [
    "#### It is concluded that, in general, men earn more than women in almost all situations, with the exception of indigenous women."
   ]
  },
  {
   "cell_type": "markdown",
   "id": "f922ec98-c274-4856-b74a-debf2bc78c26",
   "metadata": {},
   "source": [
    " "
   ]
  },
  {
   "cell_type": "markdown",
   "id": "9a63def1-bbb1-4777-92a6-6fd1cde84361",
   "metadata": {},
   "source": [
    " "
   ]
  },
  {
   "cell_type": "markdown",
   "id": "4c6b7b05-6ef4-484f-8b4e-69236287a259",
   "metadata": {},
   "source": [
    "### Building box plots of the INCOME variable according to SEX and COLOR"
   ]
  },
  {
   "cell_type": "code",
   "execution_count": 82,
   "id": "577db122-7a71-45aa-bca8-541ddd89d36a",
   "metadata": {},
   "outputs": [
    {
     "data": {
      "image/png": "[encoded data removed]",
      "text/plain": [
       "plot without title"
      ]
     },
     "metadata": {
      "image/png": {
       "height": 480,
       "width": 720
      }
     },
     "output_type": "display_data"
    }
   ],
   "source": [
    "ggplot(data=dataset[dataset$Income<=10000,], aes(x=Cat.Color, y=Income, fill=Cat.Sex))+\n",
    "    geom_boxplot(color='black', alpha=0.9)+\n",
    "    coord_flip()+\n",
    "    ylab('Color')+\n",
    "    xlab('Income')+\n",
    "    guides(guide_legend=(title='Sex'))+\n",
    "    ggtitle('Income Histogram X Cor and Sex')+\n",
    "    config_figure"
   ]
  },
  {
   "cell_type": "markdown",
   "id": "653787d1-01fb-4bbd-80e3-63037a007597",
   "metadata": {},
   "source": [
    " "
   ]
  },
  {
   "cell_type": "markdown",
   "id": "1a47da28-0db9-429b-83c4-78443864b3a3",
   "metadata": {},
   "source": [
    " "
   ]
  },
  {
   "cell_type": "markdown",
   "id": "4dd9d36f-5835-4ede-be68-127ddeef96ec",
   "metadata": {},
   "source": [
    "### Checking the mean, median, maximum value and standard deviation of the INCOME variable according to YEARS OF STUDY and SEX"
   ]
  },
  {
   "cell_type": "markdown",
   "id": "15800e4f-6327-4d37-808d-881d7e286dd3",
   "metadata": {},
   "source": [
    "### Mean"
   ]
  },
  {
   "cell_type": "code",
   "execution_count": 83,
   "id": "78af43bf-8ece-4efb-b89b-a5ac621f3cf4",
   "metadata": {},
   "outputs": [
    {
     "data": {
      "text/html": [
       "<table class=\"dataframe\">\n",
       "<caption>A matrix: 17 × 2 of type dbl</caption>\n",
       "<thead>\n",
       "\t<tr><th></th><th scope=col>Masculine</th><th scope=col>Feminine</th></tr>\n",
       "</thead>\n",
       "<tbody>\n",
       "\t<tr><th scope=row>No education and less than 1 year</th><td> 799.4946</td><td> 516.2017</td></tr>\n",
       "\t<tr><th scope=row>1 year</th><td> 895.6290</td><td> 492.7720</td></tr>\n",
       "\t<tr><th scope=row>2 years</th><td> 931.1790</td><td> 529.9116</td></tr>\n",
       "\t<tr><th scope=row>3 years</th><td>1109.2039</td><td> 546.8539</td></tr>\n",
       "\t<tr><th scope=row>4 years</th><td>1302.3293</td><td> 704.2791</td></tr>\n",
       "\t<tr><th scope=row>5 years</th><td>1338.6532</td><td> 781.3898</td></tr>\n",
       "\t<tr><th scope=row>6 years</th><td>1448.8754</td><td> 833.7328</td></tr>\n",
       "\t<tr><th scope=row>7 years</th><td>1465.4979</td><td> 830.7510</td></tr>\n",
       "\t<tr><th scope=row>8 years</th><td>1639.3967</td><td> 933.6154</td></tr>\n",
       "\t<tr><th scope=row>9 years</th><td>1508.0389</td><td> 868.0217</td></tr>\n",
       "\t<tr><th scope=row>10 years</th><td>1731.2708</td><td> 925.9192</td></tr>\n",
       "\t<tr><th scope=row>11 years</th><td>2117.0605</td><td>1286.7909</td></tr>\n",
       "\t<tr><th scope=row>12 years</th><td>2470.3308</td><td>1682.3137</td></tr>\n",
       "\t<tr><th scope=row>13 years</th><td>3195.0992</td><td>1911.7300</td></tr>\n",
       "\t<tr><th scope=row>14 years</th><td>3706.6203</td><td>2226.4605</td></tr>\n",
       "\t<tr><th scope=row>15 years or more</th><td>6134.2798</td><td>3899.5132</td></tr>\n",
       "\t<tr><th scope=row>Not determined</th><td>1295.7619</td><td> 798.1744</td></tr>\n",
       "</tbody>\n",
       "</table>\n"
      ],
      "text/latex": [
       "A matrix: 17 × 2 of type dbl\n",
       "\\begin{tabular}{r|ll}\n",
       "  & Masculine & Feminine\\\\\n",
       "\\hline\n",
       "\tNo education and less than 1 year &  799.4946 &  516.2017\\\\\n",
       "\t1 year &  895.6290 &  492.7720\\\\\n",
       "\t2 years &  931.1790 &  529.9116\\\\\n",
       "\t3 years & 1109.2039 &  546.8539\\\\\n",
       "\t4 years & 1302.3293 &  704.2791\\\\\n",
       "\t5 years & 1338.6532 &  781.3898\\\\\n",
       "\t6 years & 1448.8754 &  833.7328\\\\\n",
       "\t7 years & 1465.4979 &  830.7510\\\\\n",
       "\t8 years & 1639.3967 &  933.6154\\\\\n",
       "\t9 years & 1508.0389 &  868.0217\\\\\n",
       "\t10 years & 1731.2708 &  925.9192\\\\\n",
       "\t11 years & 2117.0605 & 1286.7909\\\\\n",
       "\t12 years & 2470.3308 & 1682.3137\\\\\n",
       "\t13 years & 3195.0992 & 1911.7300\\\\\n",
       "\t14 years & 3706.6203 & 2226.4605\\\\\n",
       "\t15 years or more & 6134.2798 & 3899.5132\\\\\n",
       "\tNot determined & 1295.7619 &  798.1744\\\\\n",
       "\\end{tabular}\n"
      ],
      "text/markdown": [
       "\n",
       "A matrix: 17 × 2 of type dbl\n",
       "\n",
       "| <!--/--> | Masculine | Feminine |\n",
       "|---|---|---|\n",
       "| No education and less than 1 year |  799.4946 |  516.2017 |\n",
       "| 1 year |  895.6290 |  492.7720 |\n",
       "| 2 years |  931.1790 |  529.9116 |\n",
       "| 3 years | 1109.2039 |  546.8539 |\n",
       "| 4 years | 1302.3293 |  704.2791 |\n",
       "| 5 years | 1338.6532 |  781.3898 |\n",
       "| 6 years | 1448.8754 |  833.7328 |\n",
       "| 7 years | 1465.4979 |  830.7510 |\n",
       "| 8 years | 1639.3967 |  933.6154 |\n",
       "| 9 years | 1508.0389 |  868.0217 |\n",
       "| 10 years | 1731.2708 |  925.9192 |\n",
       "| 11 years | 2117.0605 | 1286.7909 |\n",
       "| 12 years | 2470.3308 | 1682.3137 |\n",
       "| 13 years | 3195.0992 | 1911.7300 |\n",
       "| 14 years | 3706.6203 | 2226.4605 |\n",
       "| 15 years or more | 6134.2798 | 3899.5132 |\n",
       "| Not determined | 1295.7619 |  798.1744 |\n",
       "\n"
      ],
      "text/plain": [
       "                                  Masculine Feminine \n",
       "No education and less than 1 year  799.4946  516.2017\n",
       "1 year                             895.6290  492.7720\n",
       "2 years                            931.1790  529.9116\n",
       "3 years                           1109.2039  546.8539\n",
       "4 years                           1302.3293  704.2791\n",
       "5 years                           1338.6532  781.3898\n",
       "6 years                           1448.8754  833.7328\n",
       "7 years                           1465.4979  830.7510\n",
       "8 years                           1639.3967  933.6154\n",
       "9 years                           1508.0389  868.0217\n",
       "10 years                          1731.2708  925.9192\n",
       "11 years                          2117.0605 1286.7909\n",
       "12 years                          2470.3308 1682.3137\n",
       "13 years                          3195.0992 1911.7300\n",
       "14 years                          3706.6203 2226.4605\n",
       "15 years or more                  6134.2798 3899.5132\n",
       "Not determined                    1295.7619  798.1744"
      ]
     },
     "metadata": {},
     "output_type": "display_data"
    }
   ],
   "source": [
    "mean_income_study_and_sex <- tapply(dataset$Income, list(dataset$Cat.Years.of.Studies, dataset$Cat.Sex), mean)\n",
    "mean_income_study_and_sex"
   ]
  },
  {
   "cell_type": "markdown",
   "id": "9179ddcd-6168-4e9d-bba1-63c1c42eb57d",
   "metadata": {},
   "source": [
    "### Median"
   ]
  },
  {
   "cell_type": "code",
   "execution_count": 84,
   "id": "2baa841e-58fd-4d34-b7b9-977150018739",
   "metadata": {},
   "outputs": [
    {
     "data": {
      "text/html": [
       "<table class=\"dataframe\">\n",
       "<caption>A matrix: 17 × 2 of type dbl</caption>\n",
       "<thead>\n",
       "\t<tr><th></th><th scope=col>Masculine</th><th scope=col>Feminine</th></tr>\n",
       "</thead>\n",
       "<tbody>\n",
       "\t<tr><th scope=row>No education and less than 1 year</th><td> 700</td><td> 390</td></tr>\n",
       "\t<tr><th scope=row>1 year</th><td> 788</td><td> 400</td></tr>\n",
       "\t<tr><th scope=row>2 years</th><td> 788</td><td> 450</td></tr>\n",
       "\t<tr><th scope=row>3 years</th><td> 800</td><td> 500</td></tr>\n",
       "\t<tr><th scope=row>4 years</th><td>1000</td><td> 788</td></tr>\n",
       "\t<tr><th scope=row>5 years</th><td>1045</td><td> 788</td></tr>\n",
       "\t<tr><th scope=row>6 years</th><td>1200</td><td> 788</td></tr>\n",
       "\t<tr><th scope=row>7 years</th><td>1200</td><td> 788</td></tr>\n",
       "\t<tr><th scope=row>8 years</th><td>1300</td><td> 800</td></tr>\n",
       "\t<tr><th scope=row>9 years</th><td>1200</td><td> 788</td></tr>\n",
       "\t<tr><th scope=row>10 years</th><td>1218</td><td> 800</td></tr>\n",
       "\t<tr><th scope=row>11 years</th><td>1500</td><td>1000</td></tr>\n",
       "\t<tr><th scope=row>12 years</th><td>1800</td><td>1200</td></tr>\n",
       "\t<tr><th scope=row>13 years</th><td>2400</td><td>1300</td></tr>\n",
       "\t<tr><th scope=row>14 years</th><td>2500</td><td>1600</td></tr>\n",
       "\t<tr><th scope=row>15 years or more</th><td>4000</td><td>2800</td></tr>\n",
       "\t<tr><th scope=row>Not determined</th><td>1200</td><td> 788</td></tr>\n",
       "</tbody>\n",
       "</table>\n"
      ],
      "text/latex": [
       "A matrix: 17 × 2 of type dbl\n",
       "\\begin{tabular}{r|ll}\n",
       "  & Masculine & Feminine\\\\\n",
       "\\hline\n",
       "\tNo education and less than 1 year &  700 &  390\\\\\n",
       "\t1 year &  788 &  400\\\\\n",
       "\t2 years &  788 &  450\\\\\n",
       "\t3 years &  800 &  500\\\\\n",
       "\t4 years & 1000 &  788\\\\\n",
       "\t5 years & 1045 &  788\\\\\n",
       "\t6 years & 1200 &  788\\\\\n",
       "\t7 years & 1200 &  788\\\\\n",
       "\t8 years & 1300 &  800\\\\\n",
       "\t9 years & 1200 &  788\\\\\n",
       "\t10 years & 1218 &  800\\\\\n",
       "\t11 years & 1500 & 1000\\\\\n",
       "\t12 years & 1800 & 1200\\\\\n",
       "\t13 years & 2400 & 1300\\\\\n",
       "\t14 years & 2500 & 1600\\\\\n",
       "\t15 years or more & 4000 & 2800\\\\\n",
       "\tNot determined & 1200 &  788\\\\\n",
       "\\end{tabular}\n"
      ],
      "text/markdown": [
       "\n",
       "A matrix: 17 × 2 of type dbl\n",
       "\n",
       "| <!--/--> | Masculine | Feminine |\n",
       "|---|---|---|\n",
       "| No education and less than 1 year |  700 |  390 |\n",
       "| 1 year |  788 |  400 |\n",
       "| 2 years |  788 |  450 |\n",
       "| 3 years |  800 |  500 |\n",
       "| 4 years | 1000 |  788 |\n",
       "| 5 years | 1045 |  788 |\n",
       "| 6 years | 1200 |  788 |\n",
       "| 7 years | 1200 |  788 |\n",
       "| 8 years | 1300 |  800 |\n",
       "| 9 years | 1200 |  788 |\n",
       "| 10 years | 1218 |  800 |\n",
       "| 11 years | 1500 | 1000 |\n",
       "| 12 years | 1800 | 1200 |\n",
       "| 13 years | 2400 | 1300 |\n",
       "| 14 years | 2500 | 1600 |\n",
       "| 15 years or more | 4000 | 2800 |\n",
       "| Not determined | 1200 |  788 |\n",
       "\n"
      ],
      "text/plain": [
       "                                  Masculine Feminine\n",
       "No education and less than 1 year  700       390    \n",
       "1 year                             788       400    \n",
       "2 years                            788       450    \n",
       "3 years                            800       500    \n",
       "4 years                           1000       788    \n",
       "5 years                           1045       788    \n",
       "6 years                           1200       788    \n",
       "7 years                           1200       788    \n",
       "8 years                           1300       800    \n",
       "9 years                           1200       788    \n",
       "10 years                          1218       800    \n",
       "11 years                          1500      1000    \n",
       "12 years                          1800      1200    \n",
       "13 years                          2400      1300    \n",
       "14 years                          2500      1600    \n",
       "15 years or more                  4000      2800    \n",
       "Not determined                    1200       788    "
      ]
     },
     "metadata": {},
     "output_type": "display_data"
    }
   ],
   "source": [
    "median_income_study_and_sex <- tapply(dataset$Income, list(dataset$Cat.Years.of.Studies, dataset$Cat.Sex), median)\n",
    "median_income_study_and_sex"
   ]
  },
  {
   "cell_type": "markdown",
   "id": "a1176fc8-42c3-402b-a997-f533b24a883e",
   "metadata": {},
   "source": [
    "### Max Income"
   ]
  },
  {
   "cell_type": "code",
   "execution_count": 85,
   "id": "46904079-427a-4fcf-a746-bd7febc8f795",
   "metadata": {},
   "outputs": [
    {
     "data": {
      "text/html": [
       "<table class=\"dataframe\">\n",
       "<caption>A matrix: 17 × 2 of type int</caption>\n",
       "<thead>\n",
       "\t<tr><th></th><th scope=col>Masculine</th><th scope=col>Feminine</th></tr>\n",
       "</thead>\n",
       "<tbody>\n",
       "\t<tr><th scope=row>No education and less than 1 year</th><td> 30000</td><td> 10000</td></tr>\n",
       "\t<tr><th scope=row>1 year</th><td> 30000</td><td>  2000</td></tr>\n",
       "\t<tr><th scope=row>2 years</th><td> 40000</td><td>  4000</td></tr>\n",
       "\t<tr><th scope=row>3 years</th><td> 80000</td><td>  3500</td></tr>\n",
       "\t<tr><th scope=row>4 years</th><td> 50000</td><td> 10000</td></tr>\n",
       "\t<tr><th scope=row>5 years</th><td> 35000</td><td>  8000</td></tr>\n",
       "\t<tr><th scope=row>6 years</th><td> 25000</td><td>  6000</td></tr>\n",
       "\t<tr><th scope=row>7 years</th><td> 40000</td><td>  9000</td></tr>\n",
       "\t<tr><th scope=row>8 years</th><td> 30000</td><td> 18000</td></tr>\n",
       "\t<tr><th scope=row>9 years</th><td> 60000</td><td> 20000</td></tr>\n",
       "\t<tr><th scope=row>10 years</th><td> 45000</td><td>  6000</td></tr>\n",
       "\t<tr><th scope=row>11 years</th><td>200000</td><td>100000</td></tr>\n",
       "\t<tr><th scope=row>12 years</th><td> 30000</td><td>120000</td></tr>\n",
       "\t<tr><th scope=row>13 years</th><td> 25000</td><td> 20000</td></tr>\n",
       "\t<tr><th scope=row>14 years</th><td> 50000</td><td> 20000</td></tr>\n",
       "\t<tr><th scope=row>15 years or more</th><td>200000</td><td>100000</td></tr>\n",
       "\t<tr><th scope=row>Not determined</th><td>  7000</td><td>  3000</td></tr>\n",
       "</tbody>\n",
       "</table>\n"
      ],
      "text/latex": [
       "A matrix: 17 × 2 of type int\n",
       "\\begin{tabular}{r|ll}\n",
       "  & Masculine & Feminine\\\\\n",
       "\\hline\n",
       "\tNo education and less than 1 year &  30000 &  10000\\\\\n",
       "\t1 year &  30000 &   2000\\\\\n",
       "\t2 years &  40000 &   4000\\\\\n",
       "\t3 years &  80000 &   3500\\\\\n",
       "\t4 years &  50000 &  10000\\\\\n",
       "\t5 years &  35000 &   8000\\\\\n",
       "\t6 years &  25000 &   6000\\\\\n",
       "\t7 years &  40000 &   9000\\\\\n",
       "\t8 years &  30000 &  18000\\\\\n",
       "\t9 years &  60000 &  20000\\\\\n",
       "\t10 years &  45000 &   6000\\\\\n",
       "\t11 years & 200000 & 100000\\\\\n",
       "\t12 years &  30000 & 120000\\\\\n",
       "\t13 years &  25000 &  20000\\\\\n",
       "\t14 years &  50000 &  20000\\\\\n",
       "\t15 years or more & 200000 & 100000\\\\\n",
       "\tNot determined &   7000 &   3000\\\\\n",
       "\\end{tabular}\n"
      ],
      "text/markdown": [
       "\n",
       "A matrix: 17 × 2 of type int\n",
       "\n",
       "| <!--/--> | Masculine | Feminine |\n",
       "|---|---|---|\n",
       "| No education and less than 1 year |  30000 |  10000 |\n",
       "| 1 year |  30000 |   2000 |\n",
       "| 2 years |  40000 |   4000 |\n",
       "| 3 years |  80000 |   3500 |\n",
       "| 4 years |  50000 |  10000 |\n",
       "| 5 years |  35000 |   8000 |\n",
       "| 6 years |  25000 |   6000 |\n",
       "| 7 years |  40000 |   9000 |\n",
       "| 8 years |  30000 |  18000 |\n",
       "| 9 years |  60000 |  20000 |\n",
       "| 10 years |  45000 |   6000 |\n",
       "| 11 years | 200000 | 100000 |\n",
       "| 12 years |  30000 | 120000 |\n",
       "| 13 years |  25000 |  20000 |\n",
       "| 14 years |  50000 |  20000 |\n",
       "| 15 years or more | 200000 | 100000 |\n",
       "| Not determined |   7000 |   3000 |\n",
       "\n"
      ],
      "text/plain": [
       "                                  Masculine Feminine\n",
       "No education and less than 1 year  30000     10000  \n",
       "1 year                             30000      2000  \n",
       "2 years                            40000      4000  \n",
       "3 years                            80000      3500  \n",
       "4 years                            50000     10000  \n",
       "5 years                            35000      8000  \n",
       "6 years                            25000      6000  \n",
       "7 years                            40000      9000  \n",
       "8 years                            30000     18000  \n",
       "9 years                            60000     20000  \n",
       "10 years                           45000      6000  \n",
       "11 years                          200000    100000  \n",
       "12 years                           30000    120000  \n",
       "13 years                           25000     20000  \n",
       "14 years                           50000     20000  \n",
       "15 years or more                  200000    100000  \n",
       "Not determined                      7000      3000  "
      ]
     },
     "metadata": {},
     "output_type": "display_data"
    }
   ],
   "source": [
    "max_income_study_and_sex <- tapply(dataset$Income, list(dataset$Cat.Years.of.Studies, dataset$Cat.Sex), max)\n",
    "max_income_study_and_sex"
   ]
  },
  {
   "cell_type": "markdown",
   "id": "07a3417f-a1e0-4df9-b68e-640b9a7d607f",
   "metadata": {},
   "source": [
    "### Standard desviation"
   ]
  },
  {
   "cell_type": "code",
   "execution_count": 86,
   "id": "dc2f850b-91f7-44a0-8698-b153dda4717b",
   "metadata": {},
   "outputs": [
    {
     "data": {
      "text/html": [
       "<table class=\"dataframe\">\n",
       "<caption>A matrix: 17 × 2 of type dbl</caption>\n",
       "<thead>\n",
       "\t<tr><th></th><th scope=col>Masculine</th><th scope=col>Feminine</th></tr>\n",
       "</thead>\n",
       "<tbody>\n",
       "\t<tr><th scope=row>No education and less than 1 year</th><td>1023.9049</td><td> 639.3115</td></tr>\n",
       "\t<tr><th scope=row>1 year</th><td>1331.9506</td><td> 425.2918</td></tr>\n",
       "\t<tr><th scope=row>2 years</th><td>1435.1738</td><td> 498.2342</td></tr>\n",
       "\t<tr><th scope=row>3 years</th><td>2143.8001</td><td> 424.1244</td></tr>\n",
       "\t<tr><th scope=row>4 years</th><td>1419.8218</td><td> 629.5534</td></tr>\n",
       "\t<tr><th scope=row>5 years</th><td>1484.6506</td><td> 635.7826</td></tr>\n",
       "\t<tr><th scope=row>6 years</th><td>1476.6286</td><td> 574.5470</td></tr>\n",
       "\t<tr><th scope=row>7 years</th><td>1419.7087</td><td> 602.0380</td></tr>\n",
       "\t<tr><th scope=row>8 years</th><td>1515.5837</td><td> 896.7812</td></tr>\n",
       "\t<tr><th scope=row>9 years</th><td>2137.6648</td><td> 973.2217</td></tr>\n",
       "\t<tr><th scope=row>10 years</th><td>2078.6097</td><td> 620.6119</td></tr>\n",
       "\t<tr><th scope=row>11 years</th><td>2676.5389</td><td>1819.0404</td></tr>\n",
       "\t<tr><th scope=row>12 years</th><td>2268.0815</td><td>4851.8335</td></tr>\n",
       "\t<tr><th scope=row>13 years</th><td>2797.1168</td><td>2053.7898</td></tr>\n",
       "\t<tr><th scope=row>14 years</th><td>3987.2150</td><td>2064.0833</td></tr>\n",
       "\t<tr><th scope=row>15 years or more</th><td>7447.6136</td><td>4212.7707</td></tr>\n",
       "\t<tr><th scope=row>Not determined</th><td> 979.6487</td><td> 459.9860</td></tr>\n",
       "</tbody>\n",
       "</table>\n"
      ],
      "text/latex": [
       "A matrix: 17 × 2 of type dbl\n",
       "\\begin{tabular}{r|ll}\n",
       "  & Masculine & Feminine\\\\\n",
       "\\hline\n",
       "\tNo education and less than 1 year & 1023.9049 &  639.3115\\\\\n",
       "\t1 year & 1331.9506 &  425.2918\\\\\n",
       "\t2 years & 1435.1738 &  498.2342\\\\\n",
       "\t3 years & 2143.8001 &  424.1244\\\\\n",
       "\t4 years & 1419.8218 &  629.5534\\\\\n",
       "\t5 years & 1484.6506 &  635.7826\\\\\n",
       "\t6 years & 1476.6286 &  574.5470\\\\\n",
       "\t7 years & 1419.7087 &  602.0380\\\\\n",
       "\t8 years & 1515.5837 &  896.7812\\\\\n",
       "\t9 years & 2137.6648 &  973.2217\\\\\n",
       "\t10 years & 2078.6097 &  620.6119\\\\\n",
       "\t11 years & 2676.5389 & 1819.0404\\\\\n",
       "\t12 years & 2268.0815 & 4851.8335\\\\\n",
       "\t13 years & 2797.1168 & 2053.7898\\\\\n",
       "\t14 years & 3987.2150 & 2064.0833\\\\\n",
       "\t15 years or more & 7447.6136 & 4212.7707\\\\\n",
       "\tNot determined &  979.6487 &  459.9860\\\\\n",
       "\\end{tabular}\n"
      ],
      "text/markdown": [
       "\n",
       "A matrix: 17 × 2 of type dbl\n",
       "\n",
       "| <!--/--> | Masculine | Feminine |\n",
       "|---|---|---|\n",
       "| No education and less than 1 year | 1023.9049 |  639.3115 |\n",
       "| 1 year | 1331.9506 |  425.2918 |\n",
       "| 2 years | 1435.1738 |  498.2342 |\n",
       "| 3 years | 2143.8001 |  424.1244 |\n",
       "| 4 years | 1419.8218 |  629.5534 |\n",
       "| 5 years | 1484.6506 |  635.7826 |\n",
       "| 6 years | 1476.6286 |  574.5470 |\n",
       "| 7 years | 1419.7087 |  602.0380 |\n",
       "| 8 years | 1515.5837 |  896.7812 |\n",
       "| 9 years | 2137.6648 |  973.2217 |\n",
       "| 10 years | 2078.6097 |  620.6119 |\n",
       "| 11 years | 2676.5389 | 1819.0404 |\n",
       "| 12 years | 2268.0815 | 4851.8335 |\n",
       "| 13 years | 2797.1168 | 2053.7898 |\n",
       "| 14 years | 3987.2150 | 2064.0833 |\n",
       "| 15 years or more | 7447.6136 | 4212.7707 |\n",
       "| Not determined |  979.6487 |  459.9860 |\n",
       "\n"
      ],
      "text/plain": [
       "                                  Masculine Feminine \n",
       "No education and less than 1 year 1023.9049  639.3115\n",
       "1 year                            1331.9506  425.2918\n",
       "2 years                           1435.1738  498.2342\n",
       "3 years                           2143.8001  424.1244\n",
       "4 years                           1419.8218  629.5534\n",
       "5 years                           1484.6506  635.7826\n",
       "6 years                           1476.6286  574.5470\n",
       "7 years                           1419.7087  602.0380\n",
       "8 years                           1515.5837  896.7812\n",
       "9 years                           2137.6648  973.2217\n",
       "10 years                          2078.6097  620.6119\n",
       "11 years                          2676.5389 1819.0404\n",
       "12 years                          2268.0815 4851.8335\n",
       "13 years                          2797.1168 2053.7898\n",
       "14 years                          3987.2150 2064.0833\n",
       "15 years or more                  7447.6136 4212.7707\n",
       "Not determined                     979.6487  459.9860"
      ]
     },
     "metadata": {},
     "output_type": "display_data"
    }
   ],
   "source": [
    "standarddesviation_income_study_and_sex <- tapply(dataset$Income, list(dataset$Cat.Years.of.Studies, dataset$Cat.Sex), sd)\n",
    "standarddesviation_income_study_and_sex"
   ]
  },
  {
   "cell_type": "markdown",
   "id": "94a55808-eec6-441e-877a-bd4d4185435e",
   "metadata": {},
   "source": [
    " "
   ]
  },
  {
   "cell_type": "markdown",
   "id": "cdc1a348-5216-4474-a28b-68abaa4eb392",
   "metadata": {},
   "source": [
    " "
   ]
  },
  {
   "cell_type": "markdown",
   "id": "9bb904c9-2215-406c-94f3-e45a6c4eff8c",
   "metadata": {},
   "source": [
    "### Building a boxplot of the INCOME variable according to YEARS OF STUDY and SEX"
   ]
  },
  {
   "cell_type": "code",
   "execution_count": 87,
   "id": "89f259da-013b-448d-8e84-2bef33018e3e",
   "metadata": {},
   "outputs": [
    {
     "data": {
      "image/png": "[encoded data removed]",
      "text/plain": [
       "plot without title"
      ]
     },
     "metadata": {
      "image/png": {
       "height": 480,
       "width": 720
      }
     },
     "output_type": "display_data"
    }
   ],
   "source": [
    "ggplot(data = dataset[dataset$Income < 10000, ], aes(x = Cat.Years.of.Studies, y = Income, fill = Cat.Sex)) + \n",
    "    geom_boxplot(size = 0.2) + \n",
    "    coord_flip() +\n",
    "    ylab('Income') + \n",
    "    xlab(\"Years of Studies\") + \n",
    "    guides(fill = guide_legend(title = 'Sex')) +\n",
    "    ggtitle('Box-plot Income X SEXO e Years of Studies') +\n",
    "    config_figure"
   ]
  },
  {
   "cell_type": "markdown",
   "id": "62b28a55-b0bb-4041-8bbf-6ac31d721425",
   "metadata": {},
   "source": [
    "#### It is concluded that there is a direct relationship between years of study and income. The more years of studies a person has, the higher their income, but even so there is a considerable difference between a woman's salary and a man's salary, regardless of the years of study, a man will always earn more than a woman.\n",
    "#### Therefore, it should be noted that the more years of studies a woman has, the smaller the difference in salary between her and a man with the same degree of study."
   ]
  }
 ],
 "metadata": {
  "kernelspec": {
   "display_name": "Python 3 (ipykernel)",
   "language": "python",
   "name": "python3"
  },
  "language_info": {
   "codemirror_mode": {
    "name": "ipython",
    "version": 3
   },
   "file_extension": ".py",
   "mimetype": "text/x-python",
   "name": "python",
   "nbconvert_exporter": "python",
   "pygments_lexer": "ipython3",
   "version": "3.11.5"
  }
 },
 "nbformat": 4,
 "nbformat_minor": 5
}
